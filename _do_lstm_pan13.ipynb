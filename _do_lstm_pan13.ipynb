{
 "cells": [
  {
   "cell_type": "code",
   "execution_count": 1,
   "metadata": {},
   "outputs": [],
   "source": [
    "from fastai.text import *"
   ]
  },
  {
   "cell_type": "code",
   "execution_count": 65,
   "metadata": {},
   "outputs": [],
   "source": [
    "def calc_cat1(answers, truth):\n",
    "    # (1/n)*(nc+(nu*nc/n))\n",
    "    n_correct = 0\n",
    "    n_undecided = 0\n",
    "    n = len(answers)\n",
    "    for k, v in enumerate(answers):\n",
    "        if v == 0.5:\n",
    "            n_undecided += 1\n",
    "        else:\n",
    "            n_correct += (v > 0.5) == truth[k]\n",
    "\n",
    "    scale = 1.0 / n\n",
    "    return (n_correct + n_undecided * n_correct * scale) * scale"
   ]
  },
  {
   "cell_type": "code",
   "execution_count": 2,
   "metadata": {},
   "outputs": [
    {
     "data": {
      "text/plain": [
       "True"
      ]
     },
     "execution_count": 2,
     "metadata": {},
     "output_type": "execute_result"
    }
   ],
   "source": [
    "torch.cuda.is_available()"
   ]
  },
  {
   "cell_type": "code",
   "execution_count": 3,
   "metadata": {},
   "outputs": [],
   "source": [
    "torch.cuda.set_device('cuda:0')"
   ]
  },
  {
   "cell_type": "code",
   "execution_count": 11,
   "metadata": {},
   "outputs": [
    {
     "data": {
      "text/html": [
       "<div>\n",
       "<style scoped>\n",
       "    .dataframe tbody tr th:only-of-type {\n",
       "        vertical-align: middle;\n",
       "    }\n",
       "\n",
       "    .dataframe tbody tr th {\n",
       "        vertical-align: top;\n",
       "    }\n",
       "\n",
       "    .dataframe thead th {\n",
       "        text-align: right;\n",
       "    }\n",
       "</style>\n",
       "<table border=\"1\" class=\"dataframe\">\n",
       "  <thead>\n",
       "    <tr style=\"text-align: right;\">\n",
       "      <th></th>\n",
       "      <th>label</th>\n",
       "      <th>k_doc</th>\n",
       "      <th>u_doc</th>\n",
       "    </tr>\n",
       "  </thead>\n",
       "  <tbody>\n",
       "    <tr>\n",
       "      <th>0</th>\n",
       "      <td>Y</td>\n",
       "      <td>Computer simulation is used to reduce the risk...</td>\n",
       "      <td>After the model has been conceptualized, coded...</td>\n",
       "    </tr>\n",
       "    <tr>\n",
       "      <th>1</th>\n",
       "      <td>N</td>\n",
       "      <td>Computer simulation is used to reduce the risk...</td>\n",
       "      <td>Data model design belongs to the first develop...</td>\n",
       "    </tr>\n",
       "    <tr>\n",
       "      <th>2</th>\n",
       "      <td>Y</td>\n",
       "      <td>Digital signal processing (DSP) has become a c...</td>\n",
       "      <td>Consider a periodic digital signal x[n], n=0,1...</td>\n",
       "    </tr>\n",
       "    <tr>\n",
       "      <th>3</th>\n",
       "      <td>N</td>\n",
       "      <td>Digital technology has become widespread and e...</td>\n",
       "      <td>For a digital signal x[n], the discrete Fourie...</td>\n",
       "    </tr>\n",
       "    <tr>\n",
       "      <th>4</th>\n",
       "      <td>Y</td>\n",
       "      <td>Programming is not only coding. Primarily it i...</td>\n",
       "      <td>When working with data from files and database...</td>\n",
       "    </tr>\n",
       "  </tbody>\n",
       "</table>\n",
       "</div>"
      ],
      "text/plain": [
       "  label                                              k_doc  \\\n",
       "0     Y  Computer simulation is used to reduce the risk...   \n",
       "1     N  Computer simulation is used to reduce the risk...   \n",
       "2     Y  Digital signal processing (DSP) has become a c...   \n",
       "3     N  Digital technology has become widespread and e...   \n",
       "4     Y  Programming is not only coding. Primarily it i...   \n",
       "\n",
       "                                               u_doc  \n",
       "0  After the model has been conceptualized, coded...  \n",
       "1  Data model design belongs to the first develop...  \n",
       "2  Consider a periodic digital signal x[n], n=0,1...  \n",
       "3  For a digital signal x[n], the discrete Fourie...  \n",
       "4  When working with data from files and database...  "
      ]
     },
     "execution_count": 11,
     "metadata": {},
     "output_type": "execute_result"
    }
   ],
   "source": [
    "df_train = pd.read_csv('./data_new/pan_13_cls/train.csv')\n",
    "df_test01 = pd.read_csv('./data_new/pan_13_cls/test01.csv')\n",
    "df_test02 = pd.read_csv('./data_new/pan_13_cls/test02.csv')\n",
    "df_train.head()"
   ]
  },
  {
   "cell_type": "code",
   "execution_count": 17,
   "metadata": {},
   "outputs": [
    {
     "data": {
      "text/plain": [
       "(10, 20, 30)"
      ]
     },
     "execution_count": 17,
     "metadata": {},
     "output_type": "execute_result"
    }
   ],
   "source": [
    "len(df_train), len(df_test01), len(df_test02)"
   ]
  },
  {
   "cell_type": "code",
   "execution_count": 12,
   "metadata": {},
   "outputs": [
    {
     "data": {
      "text/html": [
       "<div>\n",
       "<style scoped>\n",
       "    .dataframe tbody tr th:only-of-type {\n",
       "        vertical-align: middle;\n",
       "    }\n",
       "\n",
       "    .dataframe tbody tr th {\n",
       "        vertical-align: top;\n",
       "    }\n",
       "\n",
       "    .dataframe thead th {\n",
       "        text-align: right;\n",
       "    }\n",
       "</style>\n",
       "<table border=\"1\" class=\"dataframe\">\n",
       "  <thead>\n",
       "    <tr style=\"text-align: right;\">\n",
       "      <th></th>\n",
       "      <th>0</th>\n",
       "    </tr>\n",
       "  </thead>\n",
       "  <tbody>\n",
       "    <tr>\n",
       "      <th>0</th>\n",
       "      <td>Computer simulation is used to reduce the risk...</td>\n",
       "    </tr>\n",
       "    <tr>\n",
       "      <th>1</th>\n",
       "      <td>Digital signal processing (DSP) has become a c...</td>\n",
       "    </tr>\n",
       "    <tr>\n",
       "      <th>2</th>\n",
       "      <td>Digital technology has become widespread and e...</td>\n",
       "    </tr>\n",
       "    <tr>\n",
       "      <th>3</th>\n",
       "      <td>Programming is not only coding. Primarily it i...</td>\n",
       "    </tr>\n",
       "    <tr>\n",
       "      <th>4</th>\n",
       "      <td>High-content screening can easily generate mor...</td>\n",
       "    </tr>\n",
       "    <tr>\n",
       "      <th>...</th>\n",
       "      <td>...</td>\n",
       "    </tr>\n",
       "    <tr>\n",
       "      <th>64</th>\n",
       "      <td>Every transaction is somehow dated and the rel...</td>\n",
       "    </tr>\n",
       "    <tr>\n",
       "      <th>65</th>\n",
       "      <td>It is said the future of publishing rests with...</td>\n",
       "    </tr>\n",
       "    <tr>\n",
       "      <th>66</th>\n",
       "      <td>The order of the filter can be increased to ob...</td>\n",
       "    </tr>\n",
       "    <tr>\n",
       "      <th>67</th>\n",
       "      <td>NetBeans has a visual tool to help with the de...</td>\n",
       "    </tr>\n",
       "    <tr>\n",
       "      <th>68</th>\n",
       "      <td>The code for this model is shown in NetLogo Co...</td>\n",
       "    </tr>\n",
       "  </tbody>\n",
       "</table>\n",
       "<p>69 rows × 1 columns</p>\n",
       "</div>"
      ],
      "text/plain": [
       "                                                    0\n",
       "0   Computer simulation is used to reduce the risk...\n",
       "1   Digital signal processing (DSP) has become a c...\n",
       "2   Digital technology has become widespread and e...\n",
       "3   Programming is not only coding. Primarily it i...\n",
       "4   High-content screening can easily generate mor...\n",
       "..                                                ...\n",
       "64  Every transaction is somehow dated and the rel...\n",
       "65  It is said the future of publishing rests with...\n",
       "66  The order of the filter can be increased to ob...\n",
       "67  NetBeans has a visual tool to help with the de...\n",
       "68  The code for this model is shown in NetLogo Co...\n",
       "\n",
       "[69 rows x 1 columns]"
      ]
     },
     "execution_count": 12,
     "metadata": {},
     "output_type": "execute_result"
    }
   ],
   "source": [
    "df_doconly = pd.concat( [df_train, df_test01, df_test02] )\n",
    "df_doconly = pd.concat( [df_doconly[\"k_doc\"], df_doconly[\"u_doc\"]] )\n",
    "df_doconly = pd.DataFrame( df_doconly.unique() )\n",
    "df_doconly"
   ]
  },
  {
   "cell_type": "code",
   "execution_count": 13,
   "metadata": {},
   "outputs": [
    {
     "data": {
      "text/html": [],
      "text/plain": [
       "<IPython.core.display.HTML object>"
      ]
     },
     "metadata": {},
     "output_type": "display_data"
    },
    {
     "name": "stderr",
     "output_type": "stream",
     "text": [
      "/home/aeryen/Code/04_Paper_AV/fastai/fastai/core.py:302: VisibleDeprecationWarning: Creating an ndarray from ragged nested sequences (which is a list-or-tuple of lists-or-tuples-or ndarrays with different lengths or shapes) is deprecated. If you meant to do this, you must specify 'dtype=object' when creating the ndarray\n",
      "  return np.array(a, dtype=dtype, **kwargs)\n"
     ]
    },
    {
     "data": {
      "text/html": [],
      "text/plain": [
       "<IPython.core.display.HTML object>"
      ]
     },
     "metadata": {},
     "output_type": "display_data"
    }
   ],
   "source": [
    "db = TextLMDataBunch.from_df('./data_new/pan_13_cls/',\n",
    "                            train_df=df_doconly[:55], valid_df=df_doconly[55:],\n",
    "                            text_cols=0)"
   ]
  },
  {
   "cell_type": "code",
   "execution_count": 14,
   "metadata": {},
   "outputs": [
    {
     "data": {
      "text/plain": [
       "5416"
      ]
     },
     "execution_count": 14,
     "metadata": {},
     "output_type": "execute_result"
    }
   ],
   "source": [
    "len( db.vocab.itos )"
   ]
  },
  {
   "cell_type": "markdown",
   "metadata": {},
   "source": [
    "## Train the LM"
   ]
  },
  {
   "cell_type": "code",
   "execution_count": 15,
   "metadata": {},
   "outputs": [],
   "source": [
    "learn = language_model_learner(db, AWD_LSTM)"
   ]
  },
  {
   "cell_type": "code",
   "execution_count": 16,
   "metadata": {},
   "outputs": [
    {
     "data": {
      "text/html": [
       "<table border=\"1\" class=\"dataframe\">\n",
       "  <thead>\n",
       "    <tr style=\"text-align: left;\">\n",
       "      <th>epoch</th>\n",
       "      <th>train_loss</th>\n",
       "      <th>valid_loss</th>\n",
       "      <th>accuracy</th>\n",
       "      <th>time</th>\n",
       "    </tr>\n",
       "  </thead>\n",
       "  <tbody>\n",
       "    <tr>\n",
       "      <td>0</td>\n",
       "      <td>4.901245</td>\n",
       "      <td>4.388126</td>\n",
       "      <td>0.271563</td>\n",
       "      <td>00:02</td>\n",
       "    </tr>\n",
       "    <tr>\n",
       "      <td>1</td>\n",
       "      <td>4.280287</td>\n",
       "      <td>3.870520</td>\n",
       "      <td>0.288080</td>\n",
       "      <td>00:02</td>\n",
       "    </tr>\n",
       "    <tr>\n",
       "      <td>2</td>\n",
       "      <td>3.673325</td>\n",
       "      <td>3.700478</td>\n",
       "      <td>0.306518</td>\n",
       "      <td>00:02</td>\n",
       "    </tr>\n",
       "    <tr>\n",
       "      <td>3</td>\n",
       "      <td>3.165907</td>\n",
       "      <td>3.599847</td>\n",
       "      <td>0.318839</td>\n",
       "      <td>00:02</td>\n",
       "    </tr>\n",
       "    <tr>\n",
       "      <td>4</td>\n",
       "      <td>2.761493</td>\n",
       "      <td>3.579676</td>\n",
       "      <td>0.320536</td>\n",
       "      <td>00:02</td>\n",
       "    </tr>\n",
       "    <tr>\n",
       "      <td>5</td>\n",
       "      <td>2.512954</td>\n",
       "      <td>3.570171</td>\n",
       "      <td>0.321741</td>\n",
       "      <td>00:02</td>\n",
       "    </tr>\n",
       "  </tbody>\n",
       "</table>"
      ],
      "text/plain": [
       "<IPython.core.display.HTML object>"
      ]
     },
     "metadata": {},
     "output_type": "display_data"
    }
   ],
   "source": [
    "moms = (0.8,0.7)\n",
    "learn.unfreeze()\n",
    "learn.fit_one_cycle(6, slice(1e-2), moms=moms)"
   ]
  },
  {
   "cell_type": "markdown",
   "metadata": {},
   "source": [
    "## Show some text"
   ]
  },
  {
   "cell_type": "code",
   "execution_count": 22,
   "metadata": {},
   "outputs": [
    {
     "data": {
      "text/html": [],
      "text/plain": [
       "<IPython.core.display.HTML object>"
      ]
     },
     "metadata": {},
     "output_type": "display_data"
    },
    {
     "data": {
      "text/plain": [
       "\"And do your best to And do your best to - night , Mr. Slocum , do n't\""
      ]
     },
     "execution_count": 22,
     "metadata": {},
     "output_type": "execute_result"
    }
   ],
   "source": [
    "learn.beam_search(\"And do your best to\", 10)"
   ]
  },
  {
   "cell_type": "code",
   "execution_count": 21,
   "metadata": {},
   "outputs": [
    {
     "data": {
      "text/plain": [
       "\"Oh, if you only would. I'd just love to see what you 'd do to do n't asleep . i 'd 've come in , Rogie .\""
      ]
     },
     "execution_count": 21,
     "metadata": {},
     "output_type": "execute_result"
    }
   ],
   "source": [
    "learn.predict( \"Oh, if you only would. I'd just love\", n_words=20 )"
   ]
  },
  {
   "cell_type": "code",
   "execution_count": null,
   "metadata": {},
   "outputs": [],
   "source": []
  },
  {
   "cell_type": "markdown",
   "metadata": {},
   "source": [
    "# ============"
   ]
  },
  {
   "cell_type": "code",
   "execution_count": 69,
   "metadata": {},
   "outputs": [],
   "source": [
    "def gen_ku_pairs(learn, k_doc, u_doc):\n",
    "    model = learn.model\n",
    "    model.reset()\n",
    "    model = model.eval()\n",
    "    \n",
    "    pred_enc = model[0]\n",
    "    doc_enc = model[0].encoder\n",
    "    \n",
    "#     k_doc = df_test.iloc[0,1]\n",
    "#     u_doc = df_test.iloc[0,2]\n",
    "    \n",
    "    k_ids, _ = learn.data.one_item(k_doc)\n",
    "    u_ids, _ = learn.data.one_item(u_doc)\n",
    "    \n",
    "    with torch.no_grad():\n",
    "        pred_enc.reset()\n",
    "        k_embed = doc_enc(k_ids).detach()\n",
    "        # we are using raw, dont care for dropout atm\n",
    "        k_pred = pred_enc(k_ids)[0][-1].detach()\n",
    "        \n",
    "        pred_enc.reset()\n",
    "        u_embed = doc_enc(u_ids).detach()\n",
    "        u_pred = pred_enc(u_ids)[0][-1].detach()\n",
    "        \n",
    "        return k_embed, k_pred, u_embed, u_pred"
   ]
  },
  {
   "cell_type": "code",
   "execution_count": 67,
   "metadata": {},
   "outputs": [],
   "source": [
    "def docmat_to_docvec(mat, reduce):\n",
    "    if reduce == \"mean\":\n",
    "        return mat.mean(dim=0)\n",
    "    elif reduce == \"max\":\n",
    "        return torch.max(mat, dim=0)[0]\n",
    "    elif reduce == \"meanmax\":\n",
    "        return torch.cat( [mat.mean(dim=0), torch.max(mat, dim=0)[0]] )\n",
    "\n",
    "def pred_diff_reduce_cosine(learn, df, reduce=\"mean\"):\n",
    "    k_dv_list = []\n",
    "    u_dv_list = []\n",
    "    dist_list = []\n",
    "    for i in range(len(df)):\n",
    "        print(i)\n",
    "        k_embed, k_pred, u_embed, u_pred = gen_ku_pairs(learn, df.iloc[i,1], df.iloc[i,2])\n",
    "        k_dv = k_embed[0,1:,:] - k_pred[0,:-1,:]\n",
    "        k_dv = docmat_to_docvec(k_dv, reduce)\n",
    "        k_dv_list.append(k_dv.numpy())\n",
    "        \n",
    "        u_dv = u_embed[0,1:,:] - u_pred[0,:-1,:]\n",
    "        u_dv = docmat_to_docvec(u_dv, reduce)\n",
    "        u_dv_list.append(u_dv.numpy())\n",
    "        \n",
    "        dv_dist = torch.nn.functional.cosine_similarity(k_dv, u_dv, dim=0)\n",
    "        dist_list.append(dv_dist.numpy())\n",
    "        \n",
    "    return  np.array(k_dv_list), np.array(u_dv_list), np.array(dist_list)\n",
    "\n",
    "def pred_cosine_reduce_cosine(learn, df, reduce=\"mean\"):\n",
    "    k_dv_list = []\n",
    "    u_dv_list = []\n",
    "    dist_list = []\n",
    "    for i in range(len(df)):\n",
    "        print(i)\n",
    "        k_embed, k_pred, u_embed, u_pred = gen_ku_pairs(learn, df.iloc[i,1], df.iloc[i,2])\n",
    "        k_embed = k_embed[0,1:,:]\n",
    "        k_pred = k_pred[0,:-1,:]\n",
    "        cs1_values = torch.nn.functional.cosine_similarity(k_embed, k_pred, dim=1)\n",
    "        cs1_sel = cs1_values < torch.median(cs1_values)\n",
    "        k_dv = k_embed[cs1_sel,:] - k_pred[cs1_sel,:]\n",
    "        k_dv = docmat_to_docvec(k_dv, reduce)\n",
    "        k_dv_list.append(k_dv)\n",
    "        \n",
    "        u_embed = u_embed[0,1:,:]\n",
    "        u_pred = u_pred[0,:-1,:]\n",
    "        cs1_values = torch.nn.functional.cosine_similarity(u_embed, u_pred, dim=1)\n",
    "        cs1_sel = cs1_values < torch.median(cs1_values)\n",
    "        u_dv = u_embed[cs1_sel,:] - u_pred[cs1_sel,:]\n",
    "        u_dv = docmat_to_docvec(u_dv, reduce)\n",
    "        u_dv_list.append(u_dv)\n",
    "        \n",
    "        dv_dist = torch.nn.functional.cosine_similarity(k_dv, u_dv, dim=0)\n",
    "        dist_list.append( dv_dist.cpu().numpy() )\n",
    "        \n",
    "    return  np.array(k_dv_list), np.array(u_dv_list), np.array(dist_list)\n",
    "\n",
    "def pred_raw(learn, df, reduce=\"mean\"):\n",
    "    k_embed_list = []\n",
    "    k_pred_list = []\n",
    "    u_embed_list = []\n",
    "    u_pred_list = []\n",
    "    label_list = []\n",
    "    for i in range(len(df)):\n",
    "        print(i)\n",
    "        k_embed, k_pred, u_embed, u_pred = gen_ku_pairs(learn, df.iloc[i,1], df.iloc[i,2])\n",
    "        k_dv = k_embed[0,1:,:] - k_pred[0,:-1,:]\n",
    "        k_embed_list.append( k_embed[0,1:,:] )\n",
    "        k_pred_list.append( k_pred[0,:-1,:] )\n",
    "        \n",
    "        u_dv = u_embed[0,1:,:] - u_pred[0,:-1,:]\n",
    "        u_dv = docmat_to_docvec(u_dv, reduce)\n",
    "        u_dv_list.append(u_dv.numpy())\n",
    "        \n",
    "    return  np.array(k_dv_list), np.array(u_dv_list), np.array(dist_list)"
   ]
  },
  {
   "cell_type": "code",
   "execution_count": 68,
   "metadata": {},
   "outputs": [],
   "source": [
    "def get_dvs(learn, df):\n",
    "    with torch.no_grad():\n",
    "        k_dvs, u_dvs, dists = pred_cosine_reduce_cosine(learn, df)\n",
    "    \n",
    "    pred = dists > np.median(dists)\n",
    "    truth = ( df[\"label\"] == \"Y\" ).to_numpy()\n",
    "    \n",
    "    acc = np.sum( pred == truth ) / len(truth)\n",
    "    print(acc)\n",
    "    \n",
    "    return k_dvs, u_dvs, dists"
   ]
  },
  {
   "cell_type": "code",
   "execution_count": 70,
   "metadata": {
    "scrolled": true
   },
   "outputs": [
    {
     "name": "stdout",
     "output_type": "stream",
     "text": [
      "0\n",
      "1\n",
      "2\n",
      "3\n",
      "4\n",
      "5\n",
      "6\n",
      "7\n",
      "8\n",
      "9\n",
      "0.8\n"
     ]
    }
   ],
   "source": [
    "# Generate Training Set DV\n",
    "train_k_dvs, train_u_dvs, train_dists = get_dvs(learn, df_train)"
   ]
  },
  {
   "cell_type": "code",
   "execution_count": 71,
   "metadata": {
    "scrolled": true
   },
   "outputs": [
    {
     "name": "stdout",
     "output_type": "stream",
     "text": [
      "0\n",
      "1\n",
      "2\n",
      "3\n",
      "4\n",
      "5\n",
      "6\n",
      "7\n",
      "8\n",
      "9\n",
      "10\n",
      "11\n",
      "12\n",
      "13\n",
      "14\n",
      "15\n",
      "16\n",
      "17\n",
      "18\n",
      "19\n",
      "20\n",
      "21\n",
      "22\n",
      "23\n",
      "24\n",
      "25\n",
      "26\n",
      "27\n",
      "28\n",
      "29\n",
      "0.7\n"
     ]
    }
   ],
   "source": [
    "# Generate Eval Set DV\n",
    "eval_k_dvs, eval_u_dvs, eval_dists = get_dvs(learn, df_test02)"
   ]
  },
  {
   "cell_type": "markdown",
   "metadata": {},
   "source": [
    "# ===================="
   ]
  },
  {
   "cell_type": "code",
   "execution_count": 45,
   "metadata": {},
   "outputs": [],
   "source": [
    "train_y = ( df_train[\"label\"].to_numpy() == \"Y\" ).astype(np.int)\n",
    "# train_y = torch.tensor(train_y).cuda().double()\n",
    "# train_y = train_y.unsqueeze(dim=-1)\n",
    "\n",
    "eval_y = ( df_test[\"label\"].to_numpy() == \"Y\").astype(np.int)\n",
    "# eval_y = torch.tensor(eval_y).cuda().double()\n",
    "# eval_y = eval_y.unsqueeze(dim=-1)"
   ]
  },
  {
   "cell_type": "markdown",
   "metadata": {},
   "source": [
    "# ============================================="
   ]
  },
  {
   "cell_type": "code",
   "execution_count": 29,
   "metadata": {},
   "outputs": [],
   "source": [
    "class ConcatClas(nn.Module):\n",
    "    def __init__(self):\n",
    "        super(ConcatClas, self).__init__()\n",
    "        layer_1 = []\n",
    "        layer_1.append( torch.nn.BatchNorm1d(400) )\n",
    "        layer_1.append( torch.nn.Dropout(0.5) )\n",
    "        layer_1.append( torch.nn.Linear(400, 1) )\n",
    "#         layer_1.append( torch.nn.GELU() )\n",
    "        self.l1 = nn.Sequential(*layer_1)\n",
    "#         layer_2 = []\n",
    "#         layer_2.append( torch.nn.BatchNorm1d(32) )\n",
    "#         layer_2.append( torch.nn.Dropout(0.1) )\n",
    "#         layer_2.append( torch.nn.Linear(32, 1) )\n",
    "#         layer_2.append( torch.nn.Sigmoid() )\n",
    "#         self.l2 = nn.Sequential(*layer_2)\n",
    "        \n",
    "    def forward(self, k_dv, u_dv):\n",
    "#         dvs = torch.cat( (k_dv, u_dv), dim=1 )\n",
    "        dvs = k_dv - u_dv\n",
    "        t = self.l1(dvs)\n",
    "#         t = self.l2(t)\n",
    "        return t\n",
    "        "
   ]
  },
  {
   "cell_type": "code",
   "execution_count": 30,
   "metadata": {},
   "outputs": [],
   "source": [
    "def eval_acc(model, k_dvs, u_dvs, lbl):\n",
    "    all_pred = []\n",
    "    loss_list = []\n",
    "    model.eval()\n",
    "    with torch.no_grad():\n",
    "        for i in range( int(len(lbl)/25) ):\n",
    "#             print(\"step: \" + str(i))\n",
    "            xk = torch.tensor( k_dvs[(i*25):((i+1)*25), :] ).cuda()\n",
    "            xu = torch.tensor( u_dvs[(i*25):((i+1)*25), :] ).cuda()\n",
    "            y_pred = model(xk, xu)\n",
    "            \n",
    "            loss = F.binary_cross_entropy_with_logits(input=y_pred, target=lbl[(i*25):((i+1)*25), :])\n",
    "            loss_list.append(loss.detach().cpu().numpy())\n",
    "            \n",
    "            all_pred.append( y_pred.detach().cpu().numpy() )\n",
    "    all_pred = np.concatenate(all_pred)\n",
    "    pred_tf = all_pred > np.median(all_pred)\n",
    "    acc = np.sum( lbl.cpu().numpy() == pred_tf ) / len(lbl)\n",
    "    print(acc)\n",
    "    \n",
    "    return all_pred, np.array(loss_list).mean()"
   ]
  },
  {
   "cell_type": "code",
   "execution_count": 36,
   "metadata": {
    "scrolled": true
   },
   "outputs": [
    {
     "name": "stdout",
     "output_type": "stream",
     "text": [
      "train: 0.7000899907926469\n",
      "train: 0.7749779593576943\n",
      "train: 0.8003144140471272\n",
      "train: 0.8594630214691973\n",
      "0.616\n",
      "+++ eval: 0.6848077628953507\n",
      "train: 0.6510298297324066\n",
      "train: 0.6375039762816431\n",
      "train: 0.7147838964734097\n",
      "train: 0.8399711644655947\n",
      "0.608\n",
      "+++ eval: 0.6855422703241791\n",
      "train: 0.5633849530655526\n",
      "train: 0.6892517361957189\n",
      "train: 0.7007255910174786\n",
      "train: 0.8918429091905893\n",
      "0.604\n",
      "+++ eval: 0.6865546914885631\n",
      "train: 0.5999261218325913\n",
      "train: 0.7417572243118903\n",
      "train: 0.6153397506026976\n",
      "train: 0.7033520988370751\n",
      "0.596\n",
      "+++ eval: 0.6880841314252285\n",
      "train: 0.5293864254045537\n",
      "train: 0.6066917379194852\n",
      "train: 0.7386041774167673\n",
      "train: 0.7168000464856611\n",
      "0.588\n",
      "+++ eval: 0.6902702353424524\n",
      "train: 0.542028308018409\n",
      "train: 0.6203805042718236\n",
      "train: 0.696202807958361\n",
      "train: 0.7329040391839134\n",
      "0.564\n",
      "+++ eval: 0.6935402933014859\n",
      "train: 0.5121326738864328\n",
      "train: 0.6049202327820604\n",
      "train: 0.6139946251959807\n",
      "train: 0.6855665429182375\n",
      "0.548\n",
      "+++ eval: 0.6980374176456607\n",
      "train: 0.4719082664271829\n",
      "train: 0.6405948956177776\n",
      "train: 0.6724372039935614\n",
      "train: 0.6658927630061036\n",
      "0.536\n",
      "+++ eval: 0.7042742609692899\n",
      "train: 0.5185665065370533\n",
      "train: 0.6127780318384309\n",
      "train: 0.6237543580586976\n",
      "train: 0.6062995918177156\n",
      "0.524\n",
      "+++ eval: 0.7137287297160457\n",
      "train: 0.5472286498420984\n",
      "train: 0.6085986071393202\n",
      "train: 0.6688965832688675\n",
      "train: 0.7515205841171607\n",
      "0.512\n",
      "+++ eval: 0.725585104899441\n",
      "train: 0.48650415480500087\n",
      "train: 0.5792861922244831\n",
      "train: 0.5561286527783722\n",
      "train: 0.599013581596011\n",
      "0.504\n",
      "+++ eval: 0.7388779809651226\n",
      "train: 0.5856007667124097\n",
      "train: 0.5382129972082449\n",
      "train: 0.6561205300065753\n",
      "train: 0.62052680714741\n",
      "0.504\n",
      "+++ eval: 0.753557859244394\n",
      "train: 0.44060515812176837\n",
      "train: 0.5393724881252833\n",
      "train: 0.6336521433222557\n",
      "train: 0.5804059459178308\n",
      "0.492\n",
      "+++ eval: 0.7701715898549942\n",
      "train: 0.4979365180894018\n",
      "train: 0.6017083316659553\n",
      "train: 0.6038744670776767\n",
      "train: 0.6055780966823225\n",
      "0.492\n",
      "+++ eval: 0.7884470412258717\n",
      "train: 0.46465477977719627\n",
      "train: 0.5825035459733704\n",
      "train: 0.5561167789373519\n",
      "train: 0.6724585317270783\n",
      "0.488\n",
      "+++ eval: 0.8049955614694451\n",
      "train: 0.45137950424746764\n",
      "train: 0.5168734068377296\n",
      "train: 0.7630052969678048\n",
      "train: 0.5633324851840922\n",
      "0.488\n",
      "+++ eval: 0.8199823990766164\n",
      "train: 0.4722463780884507\n",
      "train: 0.4773559475536058\n",
      "train: 0.6117460468766229\n",
      "train: 0.5986758229432441\n",
      "0.488\n",
      "+++ eval: 0.8328714640988822\n",
      "train: 0.46720928302684517\n",
      "train: 0.5546163157831954\n",
      "train: 0.7360979063190984\n",
      "train: 0.6333508121963406\n",
      "0.488\n",
      "+++ eval: 0.8423780160685324\n",
      "train: 0.4947297987029744\n",
      "train: 0.5481582203174032\n",
      "train: 0.5094170706849452\n",
      "train: 0.574718874810959\n",
      "0.484\n",
      "+++ eval: 0.8497562507892489\n",
      "train: 0.483585863331276\n",
      "train: 0.6190792936292445\n",
      "train: 0.601116768245769\n",
      "train: 0.6317936043785448\n",
      "0.484\n",
      "+++ eval: 0.8563280771226861\n",
      "train: 0.42087898833575105\n",
      "train: 0.48708749859584477\n",
      "train: 0.5927100582560136\n",
      "train: 0.6053245964946312\n",
      "0.484\n",
      "+++ eval: 0.862643863887104\n",
      "train: 0.478760562566804\n",
      "train: 0.5249321185440095\n",
      "train: 0.48707659392632685\n",
      "train: 0.6122155200194821\n",
      "0.48\n",
      "+++ eval: 0.870019289038644\n",
      "train: 0.37486848060335615\n",
      "train: 0.43283098356058464\n",
      "train: 0.5454894511664778\n",
      "train: 0.6759461773347961\n",
      "0.476\n",
      "+++ eval: 0.8765908893289213\n",
      "train: 0.4344017733394701\n",
      "train: 0.5211580016950217\n",
      "train: 0.5560659813270123\n",
      "train: 0.6199315877274065\n",
      "0.468\n",
      "+++ eval: 0.8798887376437614\n",
      "train: 0.3614761656937858\n",
      "train: 0.4932915133247184\n",
      "train: 0.6398146056425283\n",
      "train: 0.4926600089819725\n",
      "0.46\n",
      "+++ eval: 0.8804394567808627\n",
      "train: 0.41466334325082554\n",
      "train: 0.5677094565098851\n",
      "train: 0.5503534612725643\n",
      "train: 0.6164831399958621\n",
      "0.46\n",
      "+++ eval: 0.8803682243965214\n",
      "train: 0.41190013218149224\n",
      "train: 0.5092204033757654\n",
      "train: 0.5880387849799067\n",
      "train: 0.5819635106184291\n",
      "0.46\n",
      "+++ eval: 0.8828866361367703\n",
      "train: 0.4111879070582707\n",
      "train: 0.573994287014135\n",
      "train: 0.6542255160013095\n",
      "train: 0.5948913246790021\n",
      "0.456\n",
      "+++ eval: 0.8859132088814701\n",
      "train: 0.4742487183753685\n",
      "train: 0.5309579206043944\n",
      "train: 0.5160157526429945\n",
      "train: 0.570709176792744\n",
      "0.452\n",
      "+++ eval: 0.8901748810147888\n",
      "train: 0.4206952553087041\n",
      "train: 0.4513880911904253\n",
      "train: 0.5361513788368242\n",
      "train: 0.655602517524305\n",
      "0.46\n",
      "+++ eval: 0.8923456557651086\n"
     ]
    }
   ],
   "source": [
    "model = ConcatClas()\n",
    "optimizer = torch.optim.Adam(model.parameters(), lr=0.001)\n",
    "\n",
    "train_loss = []\n",
    "eval_loss = []\n",
    "model = model.cuda()\n",
    "for epoch in range(30):\n",
    "    model.train()\n",
    "    for i in range( int(len(train_y)/25) ):\n",
    "        optimizer.zero_grad()\n",
    "        xk = torch.tensor( train_k_dvs[(i*25):((i+1)*25), :] ).cuda()\n",
    "        xu = torch.tensor( train_u_dvs[(i*25):((i+1)*25), :] ).cuda()\n",
    "        y_pred = model(xk, xu)\n",
    "        \n",
    "        loss = F.binary_cross_entropy_with_logits(input=y_pred, target=train_y[(i*25):((i+1)*25), :])\n",
    "        loss.backward()\n",
    "        optimizer.step()\n",
    "        \n",
    "        train_loss.append(loss.detach().cpu().numpy())\n",
    "        print(\"train: \" + str(train_loss[-1]) )\n",
    "\n",
    "        \n",
    "    pred, loss = eval_acc(model, eval_k_dvs, eval_u_dvs, eval_y)\n",
    "    eval_loss.append( loss )\n",
    "    print(\"+++ eval: \" + str(loss) )\n",
    "    \n",
    "    \n"
   ]
  },
  {
   "cell_type": "code",
   "execution_count": 57,
   "metadata": {},
   "outputs": [
    {
     "data": {
      "text/plain": [
       "(500, 1)"
      ]
     },
     "execution_count": 57,
     "metadata": {},
     "output_type": "execute_result"
    }
   ],
   "source": [
    "pred"
   ]
  },
  {
   "cell_type": "code",
   "execution_count": 38,
   "metadata": {},
   "outputs": [
    {
     "data": {
      "text/plain": [
       "40"
      ]
     },
     "execution_count": 38,
     "metadata": {},
     "output_type": "execute_result"
    }
   ],
   "source": [
    "len(train_loss)"
   ]
  },
  {
   "cell_type": "code",
   "execution_count": 32,
   "metadata": {},
   "outputs": [],
   "source": [
    "import matplotlib\n",
    "import matplotlib.pyplot as plt"
   ]
  },
  {
   "cell_type": "code",
   "execution_count": 37,
   "metadata": {},
   "outputs": [
    {
     "data": {
      "image/png": "[encoded data removed]",
      "text/plain": [
       "<Figure size 432x288 with 1 Axes>"
      ]
     },
     "metadata": {
      "needs_background": "light"
     },
     "output_type": "display_data"
    }
   ],
   "source": [
    "fig, ax = plt.subplots()\n",
    "ax.plot(train_loss)\n",
    "plt.show()"
   ]
  },
  {
   "cell_type": "code",
   "execution_count": 38,
   "metadata": {},
   "outputs": [
    {
     "data": {
      "image/png": "[encoded data removed]",
      "text/plain": [
       "<Figure size 432x288 with 1 Axes>"
      ]
     },
     "metadata": {
      "needs_background": "light"
     },
     "output_type": "display_data"
    }
   ],
   "source": [
    "fig, ax = plt.subplots()\n",
    "ax.plot(eval_loss)\n",
    "plt.show()"
   ]
  },
  {
   "cell_type": "markdown",
   "metadata": {},
   "source": [
    "# SVM ======================="
   ]
  },
  {
   "cell_type": "code",
   "execution_count": 41,
   "metadata": {},
   "outputs": [],
   "source": [
    "from sklearn import svm"
   ]
  },
  {
   "cell_type": "code",
   "execution_count": 64,
   "metadata": {},
   "outputs": [
    {
     "name": "stdout",
     "output_type": "stream",
     "text": [
      "kernel: linear acc: 0.4666666666666667\n",
      "kernel: poly acc: 0.4666666666666667\n",
      "kernel: rbf acc: 0.6666666666666666\n",
      "kernel: sigmoid acc: 0.5\n"
     ]
    }
   ],
   "source": [
    "for kern in ['linear', 'poly', 'rbf', 'sigmoid']:\n",
    "    clf = svm.SVC(kernel=kern)\n",
    "    \n",
    "    train_feat = np.concatenate([train_k_dvs-train_u_dvs, train_dists[:,None]], axis=1)\n",
    "    clf.fit( train_feat, train_y )\n",
    "    \n",
    "    eval_feat = np.concatenate([eval_k_dvs-eval_u_dvs, eval_dists[:,None]], axis=1)\n",
    "    pred_y = clf.predict( eval_feat )\n",
    "    \n",
    "    correct = pred_y == eval_y\n",
    "    acc = sum(correct) / len(correct)\n",
    "    print(\"kernel: \" + kern + \" acc: \" + str(acc))"
   ]
  },
  {
   "cell_type": "code",
   "execution_count": null,
   "metadata": {},
   "outputs": [],
   "source": []
  }
 ],
 "metadata": {
  "kernelspec": {
   "display_name": "Python 3",
   "language": "python",
   "name": "python3"
  },
  "language_info": {
   "codemirror_mode": {
    "name": "ipython",
    "version": 3
   },
   "file_extension": ".py",
   "mimetype": "text/x-python",
   "name": "python",
   "nbconvert_exporter": "python",
   "pygments_lexer": "ipython3",
   "version": "3.7.7"
  }
 },
 "nbformat": 4,
 "nbformat_minor": 4
}
