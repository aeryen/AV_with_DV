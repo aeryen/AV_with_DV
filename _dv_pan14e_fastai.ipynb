{
 "cells": [
  {
   "cell_type": "code",
   "execution_count": 1,
   "metadata": {},
   "outputs": [],
   "source": [
    "import os\n",
    "from tqdm import tqdm\n",
    "from fastai.text.all import *"
   ]
  },
  {
   "cell_type": "code",
   "execution_count": 2,
   "metadata": {},
   "outputs": [],
   "source": [
    "os.environ[\"CUDA_DEVICE_ORDER\"]=\"PCI_BUS_ID\"  \n",
    "torch.cuda.set_device('cuda:6')"
   ]
  },
  {
   "cell_type": "code",
   "execution_count": 3,
   "metadata": {},
   "outputs": [],
   "source": [
    "df_train = pd.read_pickle('./data_new/pan_14e_cls/train_essays.pickle')\n",
    "df_test01 = pd.read_pickle('./data_new/pan_14e_cls/test01_essays.pickle')\n",
    "df_test02 = pd.read_pickle('./data_new/pan_14e_cls/test02_essays.pickle')"
   ]
  },
  {
   "cell_type": "code",
   "execution_count": 4,
   "metadata": {},
   "outputs": [
    {
     "data": {
      "text/plain": [
       "(200, 100, 200)"
      ]
     },
     "execution_count": 4,
     "metadata": {},
     "output_type": "execute_result"
    }
   ],
   "source": [
    "len(df_train), len(df_test01), len(df_test02)"
   ]
  },
  {
   "cell_type": "code",
   "execution_count": 5,
   "metadata": {},
   "outputs": [],
   "source": [
    "# the LM part"
   ]
  },
  {
   "cell_type": "code",
   "execution_count": 6,
   "metadata": {},
   "outputs": [
    {
     "data": {
      "text/plain": [
       "1119"
      ]
     },
     "execution_count": 6,
     "metadata": {},
     "output_type": "execute_result"
    }
   ],
   "source": [
    "# Getting unique documents\n",
    "uniq_list = []\n",
    "for dfi, df in enumerate( [df_train, df_test01, df_test02] ):\n",
    "    for i in range(len(df)):\n",
    "        for doc in df.iloc[i,1]:\n",
    "            if( doc not in uniq_list ):\n",
    "                uniq_list.append(doc)\n",
    "                \n",
    "        if( df.iloc[i,2] not in uniq_list ):\n",
    "            uniq_list.append( df.iloc[i,2] )\n",
    "len(uniq_list)"
   ]
  },
  {
   "cell_type": "code",
   "execution_count": 7,
   "metadata": {
    "scrolled": true
   },
   "outputs": [
    {
     "data": {
      "text/html": [
       "<div>\n",
       "<style scoped>\n",
       "    .dataframe tbody tr th:only-of-type {\n",
       "        vertical-align: middle;\n",
       "    }\n",
       "\n",
       "    .dataframe tbody tr th {\n",
       "        vertical-align: top;\n",
       "    }\n",
       "\n",
       "    .dataframe thead th {\n",
       "        text-align: right;\n",
       "    }\n",
       "</style>\n",
       "<table border=\"1\" class=\"dataframe\">\n",
       "  <thead>\n",
       "    <tr style=\"text-align: right;\">\n",
       "      <th></th>\n",
       "      <th>0</th>\n",
       "    </tr>\n",
       "  </thead>\n",
       "  <tbody>\n",
       "    <tr>\n",
       "      <th>0</th>\n",
       "      <td>English, my English!   xcrlfx Assesing ones strengths and weaknesses in any situation is a hard task.  xcrlfx Usually we are not so good at recognizing our strengths, instead we spend our time being critical of ourselves, thus we tend to present a much more detailed side of our flaws.  xcrlfx I will try to give you a reasonable picture of my good and not quite as good sides, as I see them, in reference to the four skills that were mentioned in the guide-lines handed out earlier in regard of this essay.   y biggest weakness by far is reading in English.  xcrlfx I most of the time find it q...</td>\n",
       "    </tr>\n",
       "    <tr>\n",
       "      <th>1</th>\n",
       "      <td>Due to the increasing violence that we're daily exposed to, a need to take action has arisen.  xcrlfx Television broadcasters and cable suppliers have been asked to endorse a computer-chip (the V-chip).  xcrlfx This chip will enable parents to protect their children from \"the rude chocks of the tube\" (G.  xcrlfx The V-chip will read encoded signals from the suppliers and on scale from one to four parents may determine what should be allowed on their television-sets and what shouldn't.  xcrlfx Gina Bellafante, writes about the V-chip in TIME Magazine, July, 24, 1995 under the topic \"locking...</td>\n",
       "    </tr>\n",
       "    <tr>\n",
       "      <th>2</th>\n",
       "      <td>An peculiar lady crossed my path, once again!   xcrlfx Reading David Malouf's \"Remembering Babylon\" you come across many different, yet similar characters and we get to know them in the way that Malouf provides us with their distinctive features or characteristics.  xcrlfx I intend to concentrate my essay on the character of Mrs Hutchence, and provide you with statements, quotes and situations that in my opinion lead to characterise her as being peculiar in her ways, mysterious, big-hearted, practical and somehow respected by the people of Bowen.  xcrlfx She's a very fascinating person th...</td>\n",
       "    </tr>\n",
       "    <tr>\n",
       "      <th>3</th>\n",
       "      <td>In the name of Religion, you can get away with anything!   xcrlfx With this argumentative piece I've tried to shed a light on the consequences of religion.  xcrlfx What goes on, apart from all of the good deeds man does in the name of religion.  xcrlfx I've devided them in five headings, all regarding different aspects of the topic.  xcrlfx I myself am not a believer.  xcrlfx I'm a naturally born critic or sceptic, if you will.  xcrlfx I firmly believe that it should be up to every man/woman to inividually process information and facts that are given or thrown upon us.  xcrlfx Just becaus...</td>\n",
       "    </tr>\n",
       "    <tr>\n",
       "      <th>4</th>\n",
       "      <td>English as a world language  1.  xcrlfx Introduction    My intention is to describe the importance of English and give a brief account of its history and how it has spread all over the world.  xcrlfx I will begin with defining what a world language is and then I will describe the way English has reached the position it has today.  xcrlfx I will continue with some up-to-date statistics and then mention some different varieties of English and explain the terms Pidgins and Creoles.  xcrlfx I find it important to investigate how it is possible for a language spoken by so few at the beginning ...</td>\n",
       "    </tr>\n",
       "    <tr>\n",
       "      <th>...</th>\n",
       "      <td>...</td>\n",
       "    </tr>\n",
       "    <tr>\n",
       "      <th>1114</th>\n",
       "      <td>In a country like Sweden the expectations of your knowledge in English are quite high.  xcrlfx I, like almost everybody else here, have studied English since the age of ten.  xcrlfx I have never had any serious problems to understand and to follow the English course in school.  xcrlfx It hasn't been the most fascinating subject throughout the years, but much of that depends on the teacher, and how motivating he or she is.  xcrlfx Somewhere along the way I must have changed my mind, since I am here now, continuing at university level.  xcrlfx Besides English at school, the exposedness to En...</td>\n",
       "    </tr>\n",
       "    <tr>\n",
       "      <th>1115</th>\n",
       "      <td>Canadian Television  In Canada there are a wider offer of TV programs and channels compared with Sweden.  xcrlfx That is my experience from my stay in Canada.  xcrlfx For me TV is entertainment and relaxation but also a way to enjoy my pastime.  xcrlfx The most irritating thing about Canadian TV is the commercials.  xcrlfx There are too many of them.  xcrlfx For instance, if you watch a movie, it takes almost double the time to watch it with TV commercials than without them.  xcrlfx During half an hour of the movie there are two breaks of commercials.  xcrlfx That is especially irritating...</td>\n",
       "    </tr>\n",
       "    <tr>\n",
       "      <th>1116</th>\n",
       "      <td>One thing about my English that I find particularly annoying is that I don't have such a good vocabulary.  xcrlfx It's very irritating trembling in the air for the right words to say or have to say or write only the most common words.  xcrlfx I'm not able to vary my language and sometimes I feel really stupid repeating the same words over and over again.  xcrlfx I keep forgetting the long and unusual words so my way of speaking and writing English gets far to uncomplicated and boring.   xcrlfx I think I learned most words when I was younger and then I \"hit the wall\" and the learning proced...</td>\n",
       "    </tr>\n",
       "    <tr>\n",
       "      <th>1117</th>\n",
       "      <td>How does television affect children?   xcrlfx Children are to a large extent depending on their environment and the activities that their surrounding offers, in order to develop their skills and abilities properly.  xcrlfx Since television came into existence about 80 years ago, this electronical device has made its way into most people's homes - at least in the western industrial countries - and today it makes up for a part of most children's environments in these nations.  xcrlfx How does television affect children in their process of development?  xcrlfx Is television a positive or neg...</td>\n",
       "    </tr>\n",
       "    <tr>\n",
       "      <th>1118</th>\n",
       "      <td>English, my English!  \\t xcrlfx One of my first experiences with the English language was, when I at nine understood the contains of a conversation between my parents.  xcrlfx As they discussed what they thought to be a secret topic, hidden behind the language barrier, they were astonished when their little boy said \"I didn't do it \". - Running away in triumph, finally having cracked their code.  xcrlfx After this incident my interest of listening to English, writing English and speaking the language only increased.   xcrlfx Now 12 years later it's interesting looking back at what I have ...</td>\n",
       "    </tr>\n",
       "  </tbody>\n",
       "</table>\n",
       "<p>1119 rows × 1 columns</p>\n",
       "</div>"
      ],
      "text/plain": [
       "                                                                                                                                                                                                                                                                                                                                                                                                                                                                                                                                                                                                                            0\n",
       "0      English, my English!   xcrlfx Assesing ones strengths and weaknesses in any situation is a hard task.  xcrlfx Usually we are not so good at recognizing our strengths, instead we spend our time being critical of ourselves, thus we tend to present a much more detailed side of our flaws.  xcrlfx I will try to give you a reasonable picture of my good and not quite as good sides, as I see them, in reference to the four skills that were mentioned in the guide-lines handed out earlier in regard of this essay.   y biggest weakness by far is reading in English.  xcrlfx I most of the time find it q...\n",
       "1     Due to the increasing violence that we're daily exposed to, a need to take action has arisen.  xcrlfx Television broadcasters and cable suppliers have been asked to endorse a computer-chip (the V-chip).  xcrlfx This chip will enable parents to protect their children from \"the rude chocks of the tube\" (G.  xcrlfx The V-chip will read encoded signals from the suppliers and on scale from one to four parents may determine what should be allowed on their television-sets and what shouldn't.  xcrlfx Gina Bellafante, writes about the V-chip in TIME Magazine, July, 24, 1995 under the topic \"locking...\n",
       "2      An peculiar lady crossed my path, once again!   xcrlfx Reading David Malouf's \"Remembering Babylon\" you come across many different, yet similar characters and we get to know them in the way that Malouf provides us with their distinctive features or characteristics.  xcrlfx I intend to concentrate my essay on the character of Mrs Hutchence, and provide you with statements, quotes and situations that in my opinion lead to characterise her as being peculiar in her ways, mysterious, big-hearted, practical and somehow respected by the people of Bowen.  xcrlfx She's a very fascinating person th...\n",
       "3      In the name of Religion, you can get away with anything!   xcrlfx With this argumentative piece I've tried to shed a light on the consequences of religion.  xcrlfx What goes on, apart from all of the good deeds man does in the name of religion.  xcrlfx I've devided them in five headings, all regarding different aspects of the topic.  xcrlfx I myself am not a believer.  xcrlfx I'm a naturally born critic or sceptic, if you will.  xcrlfx I firmly believe that it should be up to every man/woman to inividually process information and facts that are given or thrown upon us.  xcrlfx Just becaus...\n",
       "4      English as a world language  1.  xcrlfx Introduction    My intention is to describe the importance of English and give a brief account of its history and how it has spread all over the world.  xcrlfx I will begin with defining what a world language is and then I will describe the way English has reached the position it has today.  xcrlfx I will continue with some up-to-date statistics and then mention some different varieties of English and explain the terms Pidgins and Creoles.  xcrlfx I find it important to investigate how it is possible for a language spoken by so few at the beginning ...\n",
       "...                                                                                                                                                                                                                                                                                                                                                                                                                                                                                                                                                                                                                       ...\n",
       "1114  In a country like Sweden the expectations of your knowledge in English are quite high.  xcrlfx I, like almost everybody else here, have studied English since the age of ten.  xcrlfx I have never had any serious problems to understand and to follow the English course in school.  xcrlfx It hasn't been the most fascinating subject throughout the years, but much of that depends on the teacher, and how motivating he or she is.  xcrlfx Somewhere along the way I must have changed my mind, since I am here now, continuing at university level.  xcrlfx Besides English at school, the exposedness to En...\n",
       "1115   Canadian Television  In Canada there are a wider offer of TV programs and channels compared with Sweden.  xcrlfx That is my experience from my stay in Canada.  xcrlfx For me TV is entertainment and relaxation but also a way to enjoy my pastime.  xcrlfx The most irritating thing about Canadian TV is the commercials.  xcrlfx There are too many of them.  xcrlfx For instance, if you watch a movie, it takes almost double the time to watch it with TV commercials than without them.  xcrlfx During half an hour of the movie there are two breaks of commercials.  xcrlfx That is especially irritating...\n",
       "1116  One thing about my English that I find particularly annoying is that I don't have such a good vocabulary.  xcrlfx It's very irritating trembling in the air for the right words to say or have to say or write only the most common words.  xcrlfx I'm not able to vary my language and sometimes I feel really stupid repeating the same words over and over again.  xcrlfx I keep forgetting the long and unusual words so my way of speaking and writing English gets far to uncomplicated and boring.   xcrlfx I think I learned most words when I was younger and then I \"hit the wall\" and the learning proced...\n",
       "1117   How does television affect children?   xcrlfx Children are to a large extent depending on their environment and the activities that their surrounding offers, in order to develop their skills and abilities properly.  xcrlfx Since television came into existence about 80 years ago, this electronical device has made its way into most people's homes - at least in the western industrial countries - and today it makes up for a part of most children's environments in these nations.  xcrlfx How does television affect children in their process of development?  xcrlfx Is television a positive or neg...\n",
       "1118   English, my English!  \\t xcrlfx One of my first experiences with the English language was, when I at nine understood the contains of a conversation between my parents.  xcrlfx As they discussed what they thought to be a secret topic, hidden behind the language barrier, they were astonished when their little boy said \"I didn't do it \". - Running away in triumph, finally having cracked their code.  xcrlfx After this incident my interest of listening to English, writing English and speaking the language only increased.   xcrlfx Now 12 years later it's interesting looking back at what I have ...\n",
       "\n",
       "[1119 rows x 1 columns]"
      ]
     },
     "execution_count": 7,
     "metadata": {},
     "output_type": "execute_result"
    }
   ],
   "source": [
    "uniq_list = pd.DataFrame(uniq_list)\n",
    "uniq_list"
   ]
  },
  {
   "cell_type": "code",
   "execution_count": 8,
   "metadata": {},
   "outputs": [
    {
     "data": {
      "text/html": [],
      "text/plain": [
       "<IPython.core.display.HTML object>"
      ]
     },
     "metadata": {},
     "output_type": "display_data"
    },
    {
     "name": "stderr",
     "output_type": "stream",
     "text": [
      "/home/yifan/anaconda3/envs/avdv/lib/python3.9/site-packages/numpy/core/_asarray.py:83: VisibleDeprecationWarning: Creating an ndarray from ragged nested sequences (which is a list-or-tuple of lists-or-tuples-or ndarrays with different lengths or shapes) is deprecated. If you meant to do this, you must specify 'dtype=object' when creating the ndarray\n",
      "  return array(a, dtype, copy=False, order=order)\n"
     ]
    },
    {
     "data": {
      "text/html": [
       "<table border=\"1\" class=\"dataframe\">\n",
       "  <thead>\n",
       "    <tr style=\"text-align: right;\">\n",
       "      <th></th>\n",
       "      <th>text</th>\n",
       "      <th>text_</th>\n",
       "    </tr>\n",
       "  </thead>\n",
       "  <tbody>\n",
       "    <tr>\n",
       "      <th>0</th>\n",
       "      <td>xxbos xxmaj television and our conception of society xxmaj television has a powerful impact on many aspects of human life , both on individuals , family life and the society as a whole . xcrlfx xxmaj it provides for a substantial part of all information we receive , thus affecting our conception of the society and our own roles in it . xcrlfx xxmaj that is the topic for this piece of</td>\n",
       "      <td>xxmaj television and our conception of society xxmaj television has a powerful impact on many aspects of human life , both on individuals , family life and the society as a whole . xcrlfx xxmaj it provides for a substantial part of all information we receive , thus affecting our conception of the society and our own roles in it . xcrlfx xxmaj that is the topic for this piece of writing</td>\n",
       "    </tr>\n",
       "    <tr>\n",
       "      <th>1</th>\n",
       "      <td>them when he enters the xxunk , one xxunk statement could just as well have cost him his life . xcrlfx xxmaj fortunately , or unfortunately , that does not happen , but instead his speech brings about a civil war , just as he knew it would . \\t▁ xcrlfx xxmaj marcus xxmaj antonius ' speech makes a very good example of the power of rhetoric , but it also illustrates</td>\n",
       "      <td>when he enters the xxunk , one xxunk statement could just as well have cost him his life . xcrlfx xxmaj fortunately , or unfortunately , that does not happen , but instead his speech brings about a civil war , just as he knew it would . \\t▁ xcrlfx xxmaj marcus xxmaj antonius ' speech makes a very good example of the power of rhetoric , but it also illustrates the</td>\n",
       "    </tr>\n",
       "    <tr>\n",
       "      <th>2</th>\n",
       "      <td>but also people in the middle of their career , children , and retired people . xcrlfx xxmaj it is this group in general that is accused of not paying any attention at all to other people in traffic . xcrlfx xxmaj however , this group can build neither cycle stands nor cycle tracks and therefore they should not have to take this criticism . xcrlfx xxbos xxup no xxup to xxup</td>\n",
       "      <td>also people in the middle of their career , children , and retired people . xcrlfx xxmaj it is this group in general that is accused of not paying any attention at all to other people in traffic . xcrlfx xxmaj however , this group can build neither cycle stands nor cycle tracks and therefore they should not have to take this criticism . xcrlfx xxbos xxup no xxup to xxup the</td>\n",
       "    </tr>\n",
       "    <tr>\n",
       "      <th>3</th>\n",
       "      <td>person to be xxunk with . xcrlfx xxmaj in the book we learn as we go along that she is of a caring and nurturing nature and actually takes a liking to xxmaj gemmy , and feels comfortable with having him around , and his friends for that matter . xcrlfx xxmaj this only xxunk my view on her nurturing nature . xcrlfx xxmaj mrs xxmaj hutchence seem to long for a</td>\n",
       "      <td>to be xxunk with . xcrlfx xxmaj in the book we learn as we go along that she is of a caring and nurturing nature and actually takes a liking to xxmaj gemmy , and feels comfortable with having him around , and his friends for that matter . xcrlfx xxmaj this only xxunk my view on her nurturing nature . xcrlfx xxmaj mrs xxmaj hutchence seem to long for a big</td>\n",
       "    </tr>\n",
       "    <tr>\n",
       "      <th>4</th>\n",
       "      <td>xcrlfx xxmaj she choosed to bring xxmaj ben back home towards her family and relatives will , why ? xcrlfx xxmaj was it the ethical norms in the society ? xcrlfx xxmaj her quilt ? xcrlfx xxmaj nobody knows , and the book do n't give a clear answer to that questing , but it deals with such problem . \\t▁ xcrlfx xxmaj back home xxmaj ben finally find his identity among</td>\n",
       "      <td>xxmaj she choosed to bring xxmaj ben back home towards her family and relatives will , why ? xcrlfx xxmaj was it the ethical norms in the society ? xcrlfx xxmaj her quilt ? xcrlfx xxmaj nobody knows , and the book do n't give a clear answer to that questing , but it deals with such problem . \\t▁ xcrlfx xxmaj back home xxmaj ben finally find his identity among the</td>\n",
       "    </tr>\n",
       "  </tbody>\n",
       "</table>"
      ],
      "text/plain": [
       "<IPython.core.display.HTML object>"
      ]
     },
     "metadata": {},
     "output_type": "display_data"
    }
   ],
   "source": [
    "# Make the LM DataLoader\n",
    "dl = TextDataLoaders.from_df(uniq_list,\n",
    "                            path='./data_new/pan_14e_cls/',\n",
    "                            is_lm=True,\n",
    "                            valid_pct=0.1,\n",
    "                            text_col=0)\n",
    "dl.show_batch(max_n=5)"
   ]
  },
  {
   "cell_type": "code",
   "execution_count": 42,
   "metadata": {},
   "outputs": [],
   "source": [
    "defaults.device = dl.device"
   ]
  },
  {
   "cell_type": "code",
   "execution_count": 43,
   "metadata": {},
   "outputs": [],
   "source": [
    "learn = language_model_learner(dl, AWD_LSTM,\n",
    "                                metrics=[accuracy, Perplexity()],\n",
    "                                path=\"./model/lm_pan14e/\",\n",
    "                                wd=0.1)"
   ]
  },
  {
   "cell_type": "code",
   "execution_count": null,
   "metadata": {},
   "outputs": [],
   "source": [
    "def one_doc_embed(learn, doc):\n",
    "    model = learn.model\n",
    "    model = model.eval()\n",
    "    \n",
    "    pred_enc = model[0]\n",
    "    doc_enc = model[0].encoder\n",
    "    \n",
    "    ids = dl.test_dl([doc]).items[0].to(dl.device)\n",
    "    \n",
    "    with torch.no_grad():\n",
    "        pred_enc.reset()\n",
    "        embed = doc_enc(ids[None]).detach().cpu()\n",
    "        pred  = pred_enc(ids[None])[0][-1].detach().cpu()\n",
    "        \n",
    "        return {\"e\":embed, \"p\":pred}"
   ]
  },
  {
   "cell_type": "code",
   "execution_count": 44,
   "metadata": {},
   "outputs": [
    {
     "data": {
      "text/plain": [
       "AWD_LSTM(\n",
       "  (encoder): Embedding(10392, 400, padding_idx=1)\n",
       "  (encoder_dp): EmbeddingDropout(\n",
       "    (emb): Embedding(10392, 400, padding_idx=1)\n",
       "  )\n",
       "  (rnns): ModuleList(\n",
       "    (0): WeightDropout(\n",
       "      (module): LSTM(400, 1152, batch_first=True)\n",
       "    )\n",
       "    (1): WeightDropout(\n",
       "      (module): LSTM(1152, 1152, batch_first=True)\n",
       "    )\n",
       "    (2): WeightDropout(\n",
       "      (module): LSTM(1152, 400, batch_first=True)\n",
       "    )\n",
       "  )\n",
       "  (input_dp): RNNDropout()\n",
       "  (hidden_dps): ModuleList(\n",
       "    (0): RNNDropout()\n",
       "    (1): RNNDropout()\n",
       "    (2): RNNDropout()\n",
       "  )\n",
       ")"
      ]
     },
     "execution_count": 44,
     "metadata": {},
     "output_type": "execute_result"
    }
   ],
   "source": [
    "model = learn.model\n",
    "model.eval()\n",
    "pred_enc = model[0]\n",
    "pred_enc"
   ]
  },
  {
   "cell_type": "code",
   "execution_count": 14,
   "metadata": {
    "scrolled": true
   },
   "outputs": [
    {
     "data": {
      "text/plain": [
       "' English, my English!  \\t xcrlfx One of my first experiences with the English language was, when I at nine understood the contains of a conversation between my parents.  xcrlfx As they discussed what they thought to be a secret topic, hidden behind the language barrier, they were astonished when their little boy said \"I didn\\'t do it \". - Running away in triumph, finally having cracked their code.  xcrlfx After this incident my interest of listening to English, writing English and speaking the language only increased.   xcrlfx Now 12 years later it\\'s interesting looking back at what I have learnt.   xcrlfx When I am having a conversation or when I am writing, it is obvious to me what are my strengths and weaknesses.  xcrlfx In the following paragraphs I will try to assess my overall abilities in the English language.   xcrlfx It\\'s without a doubt that media has a great impact on young people in our society.  xcrlfx Radio, television and the Internet brings the world close to us.  xcrlfx And since many of the programs and articles found here are in English, it forces us, in a positive sense, to learn and understand the language.   xcrlfx I guess one can speak of unconscious learning.  xcrlfx Speaking for my self, I know that watching and listening to television, radio and music has contributed a great deal in my understanding of the language.  xcrlfx And today I feel quite able to follow discussions at a higher level.   xcrlfx When it comes to reading, I am ashamed to say that I\\'ve probably read to little.  xcrlfx This does off course inflict on certain aspects of my reading.  xcrlfx What I sometimes experience, is an insufficient vocabulary.  xcrlfx I have no problems with understanding the context.  xcrlfx In fact, I believe that this is one of my strengths.  xcrlfx But, by missing certain essential words, problems do occur.  xcrlfx This often results in funny and embarrassing misunderstandings.   xcrlfx Writing is one of the things I definitely want to improve.  xcrlfx Both when it comes to spelling and grammar but also regarding style.  xcrlfx When I started this course I got shocked over my abilities, or perhaps one should say disabilities, concerning grammar and grammatical terms.  xcrlfx It\\'s not that I can\\'t use the language in writing.  xcrlfx But, when it comes down to explaining how language is constructed and which explicit rules we follow, I face problems.  xcrlfx This is something that I am sure will change during the course.  xcrlfx However, I take great pleasure in writing and hope to continue with it.   xcrlfx The skill of speaking English is perhaps the most important.  xcrlfx Fluency in speech, intonation and vocabulary are often regarded as the essentials in the teaching of oral communication.  xcrlfx I am afraid having an American mother whose use of the English language was limited to the few times she lost her temper, (For crying out loud!  xcrlfx What have you been up to?\")  xcrlfx didn\\'t help much.  xcrlfx She wanted us to learn proper Norwegian and thought that her rusty pronunciation and vocabulary would contribute.  xcrlfx No offence mum.  xcrlfx Despite this, sometimes confusing, mixture of language and grammar I have become quite competent in them both.  xcrlfx Off course there are always room for improvement.  xcrlfx What I experience when I speak English, is the shortage of words, or rather the lack of routine using my vocabulary.  xcrlfx There is only one solution to this problem and that is to speak more.  xcrlfx Perhaps one should go abroad for a year or two.    xcrlfx There are many things that influence a young person learning a foreign language.  xcrlfx As I see it teachers, environment and family are especially important.  xcrlfx I have been lucky when it comes to these things, good teachers, in most cases, a challenging and stimulating environment and an interested and helpful family.   xcrlfx To reach a general conclusion I guess one can say that my strength is in the understanding of conversation and text.  xcrlfx And when it comes to the parts were I feel that I could improve, practical use of my vocabulary and pronunciation comes to mind I am sure that these next months, being in an academic, English speaking environment, will give me practical training in using my language. xcrlfx '"
      ]
     },
     "execution_count": 14,
     "metadata": {},
     "output_type": "execute_result"
    }
   ],
   "source": [
    "doc = df.iloc[i,2]\n",
    "doc"
   ]
  },
  {
   "cell_type": "code",
   "execution_count": 15,
   "metadata": {
    "scrolled": true
   },
   "outputs": [
    {
     "data": {
      "text/plain": [
       "TensorText([   2,    8,   36,   12,   40,    8,   36,  230,    0,   10,    8,   60,\n",
       "          15,   40,  135, 1110,   31,    9,    8,   36,   89,   37,   12,   43,\n",
       "          20,   51, 1310,  897,    9, 1766,   15,   16,  996,  176,   40,  112,\n",
       "          11,   10,    8,   25,   29,  825,   48,   29,  283,   13,   27,   16,\n",
       "        2990, 1313,   12, 2324,  888,    9,   89, 6658,   12,   29,   71, 6382,\n",
       "          43,   35,  232,  714,  266,   30,   20,  138,   61,   41,   21,   30,\n",
       "          11,   34,    8, 1511,  346,   17, 6445,   12,  491,  226,    0,   35,\n",
       "        5279,   11,   10,    8,  163,   28, 3046,   40,  549,   15,  218,   13,\n",
       "           8,   36,   12,  157,    8,   36,   14,  175,    9,   89,   97,  519,\n",
       "          11,   10,    8,  166, 1861,  133,  382,   21,   38,  513,  453,  289,\n",
       "          51,   48,   20,   24, 1233,   11,   10,    8,   43,   20,  154,  226,\n",
       "          16,  996,   47,   43,   20,  154,  157,   12,   21,   18,  588,   13,\n",
       "         110,   48,   26,   40,  715,   14,  595,   11,   10,    8,   17,    9,\n",
       "         797, 2941,   20,   62,  253,   13, 2286,   40, 1930, 1485,   17,    9,\n",
       "           8,   36,   89,   11,   10,    8,   21,   38,  210,   16, 1354,   19,\n",
       "         527,   54,   16,  197, 1182,   33,  219,   39,   17,  108,  117,   11,\n",
       "          10,    8, 1599,   12,  103,   14,    9,    8,  811, 1231,    9,  125,\n",
       "         654,   13,  140,   11,   10,    8,   14,  119,   84,   15,    9,  243,\n",
       "          14, 2228,  306,  311,   26,   17,    8,   36,   12,   21, 1769,  140,\n",
       "          12,   17,   16,  626,  582,   12,   13,  214,   14,  159,    9,   89,\n",
       "          11,   10,   20,  676,   60,   46,  240,   15, 9783,  439,   11,   10,\n",
       "           8,  175,   23,   40,  455,   12,   20,  120,   19,  228,   14,  218,\n",
       "          13,  103,   12, 1599,   14,  544,   54, 2253,   16,  197,  447,   17,\n",
       "          40,  431,   15,    9,   89,   11,   10,    8,   14,  131,   20,  151,\n",
       "         203,  200,   13,  613, 1418,   51,   16,  533,  427,   11,   10,    8,\n",
       "          43,   21,  221,   13,  150,   12,   20,  154, 2332,   13,  152,   19,\n",
       "           8,   20,  275,  225,  173,   13,  232,   11,   10,    8,   28,  121,\n",
       "         430,  147, 7950,   33,  344,  742,   15,   40,  150,   11,   10,    8,\n",
       "          48,   20,  255,  496,   12,   18,   59, 3554,  333,   11,   10,   20,\n",
       "          24,  104,  227,   31,  431,    9,  817,   11,   10,    8,   17,  164,\n",
       "          12,   20,  185,   19,   28,   18,   60,   15,   40,  715,   11,   10,\n",
       "           8,   32,   12,   57, 2790,  344, 1269,   92,   12,  227,   41, 1383,\n",
       "          11,   10,    8,   28,  153,  921,   17, 1642,   14, 2991, 4709,   11,\n",
       "          10,    8,  157,   18,   60,   15,    9,  144,   20, 1079,  141,   13,\n",
       "         384,   11,   10,    8,  187,   43,   21,  221,   13,  611,   14,  365,\n",
       "          32,   67, 1302, 2049,   11,   10,    8,   43,   20,  342,   28,  147,\n",
       "          20,  245, 3642,  207,   40, 1485,   12,   47,  373,   60,   90,  152,\n",
       "        9901,   12,  655,  365,   14, 1606,  832,   11,   10,    8,   21,   38,\n",
       "          22,   19,   20,  310,   61,  158,    9,   89,   17,  157,   11,   10,\n",
       "           8,   32,   12,   43,   21,  221,  341,   13, 3123,   88,   89,   18,\n",
       "        3279,   14,   77, 4338,  587,   42,  613,   12,   20,  837,  227,   11,\n",
       "          10,    8,   28,   18,  127,   19,   20,  154,  469,   62,  297,  201,\n",
       "           9,  147,   11,   10,    8,  194,   12,   20,  165,  197, 1754,   17,\n",
       "         157,   14,  518,   13,  791,   31,   21,   11,   10,    8,    9,  853,\n",
       "          15,  175,    8,   36,   18,  373,    9,  101,  126,   11,   10,    8,\n",
       "        2577,   17,  678,   12, 4495,   14,  333,   26,  153, 1414,   25,    9,\n",
       "           0,   17,    9,  881,   15, 3008, 1368,   11,   10,   20,  154,  631,\n",
       "         226,   59,    8,  258,  262, 1120,  158,   15,    9,    8,   36,   89,\n",
       "          37, 1121,   13,    9,  236,  362,   66,  690,   74, 4761,   12,   65,\n",
       "          23, 8425,  107, 2030,  230,   10,    8,   48,   24,   44,   91,   93,\n",
       "          13,   82,   30,   64,   10,  138,   61,  276,  100,   11,   10,    8,\n",
       "          66,  456,  140,   13,  214, 1082,    8, 8299,   14,  283,   19,   74,\n",
       "        3222,  746,   14,  333,   55, 1976,   11,   10,    8,  104, 8469, 4375,\n",
       "          11,   10,    8, 1136,   28,   12,  255, 2800,   12, 3545,   15,   89,\n",
       "          14,  365,   20,   24,  205,  203, 1732,   17,   68,  187,   11,   10,\n",
       "           8,  430,  147,   53,   26,  156,  650,   23, 1918,   11,   10,    8,\n",
       "          48,   20,  496,   43,   20,  240,    8,   36,   12,   18,    9, 2770,\n",
       "          15,   92,   12,   47,  277,    9,  449,   15, 5629,  419,   40,  333,\n",
       "          11,   10,    8,   53,   18,   97,   60,  463,   13,   28,  169,   14,\n",
       "          19,   18,   13,  240,   50,   11,   10,    8,  373,   60,   90,  231,\n",
       "         876,   23,   16,  280,   47,  171,   11,   10,    8,   53,   26,   84,\n",
       "         144,   19,  483,   16,  219,  184,  439,   16,  575,   89,   11,   10,\n",
       "           8,   25,   20,  136,   21,  292,   12,  535,   14,  124,   26,  323,\n",
       "         126,   11,   10,   20,   24,   91, 2727,   43,   21,  221,   13,  102,\n",
       "         144,   12,   86,  292,   12,   17,  101,  661,   12,   16, 4514,   14,\n",
       "        4152,  535,   14,   59,  751,   14, 3337,  124,   11,   10,    8,   13,\n",
       "         953,   16,  351,  489,   20,  676,   60,   46,  152,   19,   40,  745,\n",
       "          18,   17,    9,  431,   15,  996,   14,  383,   11,   10,    8,   14,\n",
       "          43,   21,  221,   13,    9,  565,   71,   20,  151,   19,   20,  111,\n",
       "         384,   12, 2014,  158,   15,   40,  333,   14,  746,  221,   13,  401,\n",
       "          20,  154,  469,   19,  102,  685, 1243,   12,  118,   17,   59, 1910,\n",
       "          12,    8,   36,  175,  535,   12,   62,  212,  110, 2014, 1199,   17,\n",
       "         419,   40,   89,   11,   10], device='cuda:6')"
      ]
     },
     "execution_count": 15,
     "metadata": {},
     "output_type": "execute_result"
    }
   ],
   "source": [
    "ids = dl.test_dl([doc]).items[0].to(dl.device)\n",
    "ids"
   ]
  },
  {
   "cell_type": "code",
   "execution_count": 46,
   "metadata": {},
   "outputs": [],
   "source": [
    "pred_enc = pred_enc.to(device=dl.device)"
   ]
  },
  {
   "cell_type": "code",
   "execution_count": 55,
   "metadata": {},
   "outputs": [
    {
     "ename": "IndexError",
     "evalue": "index 3 is out of range",
     "output_type": "error",
     "traceback": [
      "\u001b[0;31m---------------------------------------------------------------------------\u001b[0m",
      "\u001b[0;31mIndexError\u001b[0m                                Traceback (most recent call last)",
      "\u001b[0;32m<ipython-input-55-e7e2c75f462c>\u001b[0m in \u001b[0;36m<module>\u001b[0;34m\u001b[0m\n\u001b[0;32m----> 1\u001b[0;31m \u001b[0mpred_enc\u001b[0m\u001b[0;34m.\u001b[0m\u001b[0mrnns\u001b[0m\u001b[0;34m[\u001b[0m\u001b[0;36m3\u001b[0m\u001b[0;34m]\u001b[0m\u001b[0;34m.\u001b[0m\u001b[0mmodule\u001b[0m\u001b[0;34m.\u001b[0m\u001b[0m_flat_weights\u001b[0m\u001b[0;34m\u001b[0m\u001b[0;34m\u001b[0m\u001b[0m\n\u001b[0m",
      "\u001b[0;32m~/anaconda3/envs/avdv/lib/python3.9/site-packages/torch/nn/modules/container.py\u001b[0m in \u001b[0;36m__getitem__\u001b[0;34m(self, idx)\u001b[0m\n\u001b[1;32m    162\u001b[0m             \u001b[0;32mreturn\u001b[0m \u001b[0mself\u001b[0m\u001b[0;34m.\u001b[0m\u001b[0m__class__\u001b[0m\u001b[0;34m(\u001b[0m\u001b[0mlist\u001b[0m\u001b[0;34m(\u001b[0m\u001b[0mself\u001b[0m\u001b[0;34m.\u001b[0m\u001b[0m_modules\u001b[0m\u001b[0;34m.\u001b[0m\u001b[0mvalues\u001b[0m\u001b[0;34m(\u001b[0m\u001b[0;34m)\u001b[0m\u001b[0;34m)\u001b[0m\u001b[0;34m[\u001b[0m\u001b[0midx\u001b[0m\u001b[0;34m]\u001b[0m\u001b[0;34m)\u001b[0m\u001b[0;34m\u001b[0m\u001b[0;34m\u001b[0m\u001b[0m\n\u001b[1;32m    163\u001b[0m         \u001b[0;32melse\u001b[0m\u001b[0;34m:\u001b[0m\u001b[0;34m\u001b[0m\u001b[0;34m\u001b[0m\u001b[0m\n\u001b[0;32m--> 164\u001b[0;31m             \u001b[0;32mreturn\u001b[0m \u001b[0mself\u001b[0m\u001b[0;34m.\u001b[0m\u001b[0m_modules\u001b[0m\u001b[0;34m[\u001b[0m\u001b[0mself\u001b[0m\u001b[0;34m.\u001b[0m\u001b[0m_get_abs_string_index\u001b[0m\u001b[0;34m(\u001b[0m\u001b[0midx\u001b[0m\u001b[0;34m)\u001b[0m\u001b[0;34m]\u001b[0m\u001b[0;34m\u001b[0m\u001b[0;34m\u001b[0m\u001b[0m\n\u001b[0m\u001b[1;32m    165\u001b[0m \u001b[0;34m\u001b[0m\u001b[0m\n\u001b[1;32m    166\u001b[0m     \u001b[0;32mdef\u001b[0m \u001b[0m__setitem__\u001b[0m\u001b[0;34m(\u001b[0m\u001b[0mself\u001b[0m\u001b[0;34m,\u001b[0m \u001b[0midx\u001b[0m\u001b[0;34m:\u001b[0m \u001b[0mint\u001b[0m\u001b[0;34m,\u001b[0m \u001b[0mmodule\u001b[0m\u001b[0;34m:\u001b[0m \u001b[0mModule\u001b[0m\u001b[0;34m)\u001b[0m \u001b[0;34m->\u001b[0m \u001b[0;32mNone\u001b[0m\u001b[0;34m:\u001b[0m\u001b[0;34m\u001b[0m\u001b[0;34m\u001b[0m\u001b[0m\n",
      "\u001b[0;32m~/anaconda3/envs/avdv/lib/python3.9/site-packages/torch/nn/modules/container.py\u001b[0m in \u001b[0;36m_get_abs_string_index\u001b[0;34m(self, idx)\u001b[0m\n\u001b[1;32m    152\u001b[0m         \u001b[0midx\u001b[0m \u001b[0;34m=\u001b[0m \u001b[0moperator\u001b[0m\u001b[0;34m.\u001b[0m\u001b[0mindex\u001b[0m\u001b[0;34m(\u001b[0m\u001b[0midx\u001b[0m\u001b[0;34m)\u001b[0m\u001b[0;34m\u001b[0m\u001b[0;34m\u001b[0m\u001b[0m\n\u001b[1;32m    153\u001b[0m         \u001b[0;32mif\u001b[0m \u001b[0;32mnot\u001b[0m \u001b[0;34m(\u001b[0m\u001b[0;34m-\u001b[0m\u001b[0mlen\u001b[0m\u001b[0;34m(\u001b[0m\u001b[0mself\u001b[0m\u001b[0;34m)\u001b[0m \u001b[0;34m<=\u001b[0m \u001b[0midx\u001b[0m \u001b[0;34m<\u001b[0m \u001b[0mlen\u001b[0m\u001b[0;34m(\u001b[0m\u001b[0mself\u001b[0m\u001b[0;34m)\u001b[0m\u001b[0;34m)\u001b[0m\u001b[0;34m:\u001b[0m\u001b[0;34m\u001b[0m\u001b[0;34m\u001b[0m\u001b[0m\n\u001b[0;32m--> 154\u001b[0;31m             \u001b[0;32mraise\u001b[0m \u001b[0mIndexError\u001b[0m\u001b[0;34m(\u001b[0m\u001b[0;34m'index {} is out of range'\u001b[0m\u001b[0;34m.\u001b[0m\u001b[0mformat\u001b[0m\u001b[0;34m(\u001b[0m\u001b[0midx\u001b[0m\u001b[0;34m)\u001b[0m\u001b[0;34m)\u001b[0m\u001b[0;34m\u001b[0m\u001b[0;34m\u001b[0m\u001b[0m\n\u001b[0m\u001b[1;32m    155\u001b[0m         \u001b[0;32mif\u001b[0m \u001b[0midx\u001b[0m \u001b[0;34m<\u001b[0m \u001b[0;36m0\u001b[0m\u001b[0;34m:\u001b[0m\u001b[0;34m\u001b[0m\u001b[0;34m\u001b[0m\u001b[0m\n\u001b[1;32m    156\u001b[0m             \u001b[0midx\u001b[0m \u001b[0;34m+=\u001b[0m \u001b[0mlen\u001b[0m\u001b[0;34m(\u001b[0m\u001b[0mself\u001b[0m\u001b[0;34m)\u001b[0m\u001b[0;34m\u001b[0m\u001b[0;34m\u001b[0m\u001b[0m\n",
      "\u001b[0;31mIndexError\u001b[0m: index 3 is out of range"
     ]
    }
   ],
   "source": [
    "pred_enc.rnns[3].module._flat_weights"
   ]
  },
  {
   "cell_type": "code",
   "execution_count": 47,
   "metadata": {},
   "outputs": [
    {
     "ename": "RuntimeError",
     "evalue": "Input and hidden tensors are not at the same device, found input tensor at cuda:6 and hidden tensor at cpu",
     "output_type": "error",
     "traceback": [
      "\u001b[0;31m---------------------------------------------------------------------------\u001b[0m",
      "\u001b[0;31mRuntimeError\u001b[0m                              Traceback (most recent call last)",
      "\u001b[0;32m<ipython-input-47-9fd30dbde59e>\u001b[0m in \u001b[0;36m<module>\u001b[0;34m\u001b[0m\n\u001b[0;32m----> 1\u001b[0;31m \u001b[0mpred_enc\u001b[0m\u001b[0;34m(\u001b[0m \u001b[0mids\u001b[0m\u001b[0;34m[\u001b[0m\u001b[0;32mNone\u001b[0m\u001b[0;34m]\u001b[0m \u001b[0;34m)\u001b[0m\u001b[0;34m\u001b[0m\u001b[0;34m\u001b[0m\u001b[0m\n\u001b[0m",
      "\u001b[0;32m~/anaconda3/envs/avdv/lib/python3.9/site-packages/torch/nn/modules/module.py\u001b[0m in \u001b[0;36m_call_impl\u001b[0;34m(self, *input, **kwargs)\u001b[0m\n\u001b[1;32m    725\u001b[0m             \u001b[0mresult\u001b[0m \u001b[0;34m=\u001b[0m \u001b[0mself\u001b[0m\u001b[0;34m.\u001b[0m\u001b[0m_slow_forward\u001b[0m\u001b[0;34m(\u001b[0m\u001b[0;34m*\u001b[0m\u001b[0minput\u001b[0m\u001b[0;34m,\u001b[0m \u001b[0;34m**\u001b[0m\u001b[0mkwargs\u001b[0m\u001b[0;34m)\u001b[0m\u001b[0;34m\u001b[0m\u001b[0;34m\u001b[0m\u001b[0m\n\u001b[1;32m    726\u001b[0m         \u001b[0;32melse\u001b[0m\u001b[0;34m:\u001b[0m\u001b[0;34m\u001b[0m\u001b[0;34m\u001b[0m\u001b[0m\n\u001b[0;32m--> 727\u001b[0;31m             \u001b[0mresult\u001b[0m \u001b[0;34m=\u001b[0m \u001b[0mself\u001b[0m\u001b[0;34m.\u001b[0m\u001b[0mforward\u001b[0m\u001b[0;34m(\u001b[0m\u001b[0;34m*\u001b[0m\u001b[0minput\u001b[0m\u001b[0;34m,\u001b[0m \u001b[0;34m**\u001b[0m\u001b[0mkwargs\u001b[0m\u001b[0;34m)\u001b[0m\u001b[0;34m\u001b[0m\u001b[0;34m\u001b[0m\u001b[0m\n\u001b[0m\u001b[1;32m    728\u001b[0m         for hook in itertools.chain(\n\u001b[1;32m    729\u001b[0m                 \u001b[0m_global_forward_hooks\u001b[0m\u001b[0;34m.\u001b[0m\u001b[0mvalues\u001b[0m\u001b[0;34m(\u001b[0m\u001b[0;34m)\u001b[0m\u001b[0;34m,\u001b[0m\u001b[0;34m\u001b[0m\u001b[0;34m\u001b[0m\u001b[0m\n",
      "\u001b[0;32m/disk2/yifan/code/fastai_v2/fastai/text/models/awdlstm.py\u001b[0m in \u001b[0;36mforward\u001b[0;34m(self, inp, from_embeds)\u001b[0m\n\u001b[1;32m    104\u001b[0m         \u001b[0mnew_hidden\u001b[0m \u001b[0;34m=\u001b[0m \u001b[0;34m[\u001b[0m\u001b[0;34m]\u001b[0m\u001b[0;34m\u001b[0m\u001b[0;34m\u001b[0m\u001b[0m\n\u001b[1;32m    105\u001b[0m         \u001b[0;32mfor\u001b[0m \u001b[0ml\u001b[0m\u001b[0;34m,\u001b[0m \u001b[0;34m(\u001b[0m\u001b[0mrnn\u001b[0m\u001b[0;34m,\u001b[0m\u001b[0mhid_dp\u001b[0m\u001b[0;34m)\u001b[0m \u001b[0;32min\u001b[0m \u001b[0menumerate\u001b[0m\u001b[0;34m(\u001b[0m\u001b[0mzip\u001b[0m\u001b[0;34m(\u001b[0m\u001b[0mself\u001b[0m\u001b[0;34m.\u001b[0m\u001b[0mrnns\u001b[0m\u001b[0;34m,\u001b[0m \u001b[0mself\u001b[0m\u001b[0;34m.\u001b[0m\u001b[0mhidden_dps\u001b[0m\u001b[0;34m)\u001b[0m\u001b[0;34m)\u001b[0m\u001b[0;34m:\u001b[0m\u001b[0;34m\u001b[0m\u001b[0;34m\u001b[0m\u001b[0m\n\u001b[0;32m--> 106\u001b[0;31m             \u001b[0moutput\u001b[0m\u001b[0;34m,\u001b[0m \u001b[0mnew_h\u001b[0m \u001b[0;34m=\u001b[0m \u001b[0mrnn\u001b[0m\u001b[0;34m(\u001b[0m\u001b[0moutput\u001b[0m\u001b[0;34m,\u001b[0m \u001b[0mself\u001b[0m\u001b[0;34m.\u001b[0m\u001b[0mhidden\u001b[0m\u001b[0;34m[\u001b[0m\u001b[0ml\u001b[0m\u001b[0;34m]\u001b[0m\u001b[0;34m)\u001b[0m\u001b[0;34m\u001b[0m\u001b[0;34m\u001b[0m\u001b[0m\n\u001b[0m\u001b[1;32m    107\u001b[0m             \u001b[0mnew_hidden\u001b[0m\u001b[0;34m.\u001b[0m\u001b[0mappend\u001b[0m\u001b[0;34m(\u001b[0m\u001b[0mnew_h\u001b[0m\u001b[0;34m)\u001b[0m\u001b[0;34m\u001b[0m\u001b[0;34m\u001b[0m\u001b[0m\n\u001b[1;32m    108\u001b[0m             \u001b[0;32mif\u001b[0m \u001b[0ml\u001b[0m \u001b[0;34m!=\u001b[0m \u001b[0mself\u001b[0m\u001b[0;34m.\u001b[0m\u001b[0mn_layers\u001b[0m \u001b[0;34m-\u001b[0m \u001b[0;36m1\u001b[0m\u001b[0;34m:\u001b[0m \u001b[0moutput\u001b[0m \u001b[0;34m=\u001b[0m \u001b[0mhid_dp\u001b[0m\u001b[0;34m(\u001b[0m\u001b[0moutput\u001b[0m\u001b[0;34m)\u001b[0m\u001b[0;34m\u001b[0m\u001b[0;34m\u001b[0m\u001b[0m\n",
      "\u001b[0;32m~/anaconda3/envs/avdv/lib/python3.9/site-packages/torch/nn/modules/module.py\u001b[0m in \u001b[0;36m_call_impl\u001b[0;34m(self, *input, **kwargs)\u001b[0m\n\u001b[1;32m    725\u001b[0m             \u001b[0mresult\u001b[0m \u001b[0;34m=\u001b[0m \u001b[0mself\u001b[0m\u001b[0;34m.\u001b[0m\u001b[0m_slow_forward\u001b[0m\u001b[0;34m(\u001b[0m\u001b[0;34m*\u001b[0m\u001b[0minput\u001b[0m\u001b[0;34m,\u001b[0m \u001b[0;34m**\u001b[0m\u001b[0mkwargs\u001b[0m\u001b[0;34m)\u001b[0m\u001b[0;34m\u001b[0m\u001b[0;34m\u001b[0m\u001b[0m\n\u001b[1;32m    726\u001b[0m         \u001b[0;32melse\u001b[0m\u001b[0;34m:\u001b[0m\u001b[0;34m\u001b[0m\u001b[0;34m\u001b[0m\u001b[0m\n\u001b[0;32m--> 727\u001b[0;31m             \u001b[0mresult\u001b[0m \u001b[0;34m=\u001b[0m \u001b[0mself\u001b[0m\u001b[0;34m.\u001b[0m\u001b[0mforward\u001b[0m\u001b[0;34m(\u001b[0m\u001b[0;34m*\u001b[0m\u001b[0minput\u001b[0m\u001b[0;34m,\u001b[0m \u001b[0;34m**\u001b[0m\u001b[0mkwargs\u001b[0m\u001b[0;34m)\u001b[0m\u001b[0;34m\u001b[0m\u001b[0;34m\u001b[0m\u001b[0m\n\u001b[0m\u001b[1;32m    728\u001b[0m         for hook in itertools.chain(\n\u001b[1;32m    729\u001b[0m                 \u001b[0m_global_forward_hooks\u001b[0m\u001b[0;34m.\u001b[0m\u001b[0mvalues\u001b[0m\u001b[0;34m(\u001b[0m\u001b[0;34m)\u001b[0m\u001b[0;34m,\u001b[0m\u001b[0;34m\u001b[0m\u001b[0;34m\u001b[0m\u001b[0m\n",
      "\u001b[0;32m/disk2/yifan/code/fastai_v2/fastai/text/models/awdlstm.py\u001b[0m in \u001b[0;36mforward\u001b[0;34m(self, *args)\u001b[0m\n\u001b[1;32m     51\u001b[0m             \u001b[0;31m# To avoid the warning that comes because the weights aren't flattened.\u001b[0m\u001b[0;34m\u001b[0m\u001b[0;34m\u001b[0m\u001b[0;34m\u001b[0m\u001b[0m\n\u001b[1;32m     52\u001b[0m             \u001b[0mwarnings\u001b[0m\u001b[0;34m.\u001b[0m\u001b[0msimplefilter\u001b[0m\u001b[0;34m(\u001b[0m\u001b[0;34m\"ignore\"\u001b[0m\u001b[0;34m,\u001b[0m \u001b[0mcategory\u001b[0m\u001b[0;34m=\u001b[0m\u001b[0mUserWarning\u001b[0m\u001b[0;34m)\u001b[0m\u001b[0;34m\u001b[0m\u001b[0;34m\u001b[0m\u001b[0m\n\u001b[0;32m---> 53\u001b[0;31m             \u001b[0;32mreturn\u001b[0m \u001b[0mself\u001b[0m\u001b[0;34m.\u001b[0m\u001b[0mmodule\u001b[0m\u001b[0;34m(\u001b[0m\u001b[0;34m*\u001b[0m\u001b[0margs\u001b[0m\u001b[0;34m)\u001b[0m\u001b[0;34m\u001b[0m\u001b[0;34m\u001b[0m\u001b[0m\n\u001b[0m\u001b[1;32m     54\u001b[0m \u001b[0;34m\u001b[0m\u001b[0m\n\u001b[1;32m     55\u001b[0m     \u001b[0;32mdef\u001b[0m \u001b[0mreset\u001b[0m\u001b[0;34m(\u001b[0m\u001b[0mself\u001b[0m\u001b[0;34m)\u001b[0m\u001b[0;34m:\u001b[0m\u001b[0;34m\u001b[0m\u001b[0;34m\u001b[0m\u001b[0m\n",
      "\u001b[0;32m~/anaconda3/envs/avdv/lib/python3.9/site-packages/torch/nn/modules/module.py\u001b[0m in \u001b[0;36m_call_impl\u001b[0;34m(self, *input, **kwargs)\u001b[0m\n\u001b[1;32m    725\u001b[0m             \u001b[0mresult\u001b[0m \u001b[0;34m=\u001b[0m \u001b[0mself\u001b[0m\u001b[0;34m.\u001b[0m\u001b[0m_slow_forward\u001b[0m\u001b[0;34m(\u001b[0m\u001b[0;34m*\u001b[0m\u001b[0minput\u001b[0m\u001b[0;34m,\u001b[0m \u001b[0;34m**\u001b[0m\u001b[0mkwargs\u001b[0m\u001b[0;34m)\u001b[0m\u001b[0;34m\u001b[0m\u001b[0;34m\u001b[0m\u001b[0m\n\u001b[1;32m    726\u001b[0m         \u001b[0;32melse\u001b[0m\u001b[0;34m:\u001b[0m\u001b[0;34m\u001b[0m\u001b[0;34m\u001b[0m\u001b[0m\n\u001b[0;32m--> 727\u001b[0;31m             \u001b[0mresult\u001b[0m \u001b[0;34m=\u001b[0m \u001b[0mself\u001b[0m\u001b[0;34m.\u001b[0m\u001b[0mforward\u001b[0m\u001b[0;34m(\u001b[0m\u001b[0;34m*\u001b[0m\u001b[0minput\u001b[0m\u001b[0;34m,\u001b[0m \u001b[0;34m**\u001b[0m\u001b[0mkwargs\u001b[0m\u001b[0;34m)\u001b[0m\u001b[0;34m\u001b[0m\u001b[0;34m\u001b[0m\u001b[0m\n\u001b[0m\u001b[1;32m    728\u001b[0m         for hook in itertools.chain(\n\u001b[1;32m    729\u001b[0m                 \u001b[0m_global_forward_hooks\u001b[0m\u001b[0;34m.\u001b[0m\u001b[0mvalues\u001b[0m\u001b[0;34m(\u001b[0m\u001b[0;34m)\u001b[0m\u001b[0;34m,\u001b[0m\u001b[0;34m\u001b[0m\u001b[0;34m\u001b[0m\u001b[0m\n",
      "\u001b[0;32m~/anaconda3/envs/avdv/lib/python3.9/site-packages/torch/nn/modules/rnn.py\u001b[0m in \u001b[0;36mforward\u001b[0;34m(self, input, hx)\u001b[0m\n\u001b[1;32m    579\u001b[0m         \u001b[0mself\u001b[0m\u001b[0;34m.\u001b[0m\u001b[0mcheck_forward_args\u001b[0m\u001b[0;34m(\u001b[0m\u001b[0minput\u001b[0m\u001b[0;34m,\u001b[0m \u001b[0mhx\u001b[0m\u001b[0;34m,\u001b[0m \u001b[0mbatch_sizes\u001b[0m\u001b[0;34m)\u001b[0m\u001b[0;34m\u001b[0m\u001b[0;34m\u001b[0m\u001b[0m\n\u001b[1;32m    580\u001b[0m         \u001b[0;32mif\u001b[0m \u001b[0mbatch_sizes\u001b[0m \u001b[0;32mis\u001b[0m \u001b[0;32mNone\u001b[0m\u001b[0;34m:\u001b[0m\u001b[0;34m\u001b[0m\u001b[0;34m\u001b[0m\u001b[0m\n\u001b[0;32m--> 581\u001b[0;31m             result = _VF.lstm(input, hx, self._flat_weights, self.bias, self.num_layers,\n\u001b[0m\u001b[1;32m    582\u001b[0m                               self.dropout, self.training, self.bidirectional, self.batch_first)\n\u001b[1;32m    583\u001b[0m         \u001b[0;32melse\u001b[0m\u001b[0;34m:\u001b[0m\u001b[0;34m\u001b[0m\u001b[0;34m\u001b[0m\u001b[0m\n",
      "\u001b[0;32m/disk2/yifan/code/fastai_v2/fastai/torch_core.py\u001b[0m in \u001b[0;36m__torch_function__\u001b[0;34m(self, func, types, args, kwargs)\u001b[0m\n\u001b[1;32m    317\u001b[0m \u001b[0;31m#         if func.__name__[0]!='_': print(func, types, args, kwargs)\u001b[0m\u001b[0;34m\u001b[0m\u001b[0;34m\u001b[0m\u001b[0;34m\u001b[0m\u001b[0m\n\u001b[1;32m    318\u001b[0m \u001b[0;31m#         with torch._C.DisableTorchFunction(): ret = _convert(func(*args, **(kwargs or {})), self.__class__)\u001b[0m\u001b[0;34m\u001b[0m\u001b[0;34m\u001b[0m\u001b[0;34m\u001b[0m\u001b[0m\n\u001b[0;32m--> 319\u001b[0;31m         \u001b[0mret\u001b[0m \u001b[0;34m=\u001b[0m \u001b[0msuper\u001b[0m\u001b[0;34m(\u001b[0m\u001b[0;34m)\u001b[0m\u001b[0;34m.\u001b[0m\u001b[0m__torch_function__\u001b[0m\u001b[0;34m(\u001b[0m\u001b[0mfunc\u001b[0m\u001b[0;34m,\u001b[0m \u001b[0mtypes\u001b[0m\u001b[0;34m,\u001b[0m \u001b[0margs\u001b[0m\u001b[0;34m=\u001b[0m\u001b[0margs\u001b[0m\u001b[0;34m,\u001b[0m \u001b[0mkwargs\u001b[0m\u001b[0;34m=\u001b[0m\u001b[0mkwargs\u001b[0m\u001b[0;34m)\u001b[0m\u001b[0;34m\u001b[0m\u001b[0;34m\u001b[0m\u001b[0m\n\u001b[0m\u001b[1;32m    320\u001b[0m         \u001b[0;32mif\u001b[0m \u001b[0misinstance\u001b[0m\u001b[0;34m(\u001b[0m\u001b[0mret\u001b[0m\u001b[0;34m,\u001b[0m \u001b[0mTensorBase\u001b[0m\u001b[0;34m)\u001b[0m\u001b[0;34m:\u001b[0m \u001b[0mret\u001b[0m\u001b[0;34m.\u001b[0m\u001b[0mset_meta\u001b[0m\u001b[0;34m(\u001b[0m\u001b[0mself\u001b[0m\u001b[0;34m,\u001b[0m \u001b[0mas_copy\u001b[0m\u001b[0;34m=\u001b[0m\u001b[0;32mTrue\u001b[0m\u001b[0;34m)\u001b[0m\u001b[0;34m\u001b[0m\u001b[0;34m\u001b[0m\u001b[0m\n\u001b[1;32m    321\u001b[0m         \u001b[0;32mreturn\u001b[0m \u001b[0mret\u001b[0m\u001b[0;34m\u001b[0m\u001b[0;34m\u001b[0m\u001b[0m\n",
      "\u001b[0;32m~/anaconda3/envs/avdv/lib/python3.9/site-packages/torch/tensor.py\u001b[0m in \u001b[0;36m__torch_function__\u001b[0;34m(cls, func, types, args, kwargs)\u001b[0m\n\u001b[1;32m    993\u001b[0m \u001b[0;34m\u001b[0m\u001b[0m\n\u001b[1;32m    994\u001b[0m         \u001b[0;32mwith\u001b[0m \u001b[0m_C\u001b[0m\u001b[0;34m.\u001b[0m\u001b[0mDisableTorchFunction\u001b[0m\u001b[0;34m(\u001b[0m\u001b[0;34m)\u001b[0m\u001b[0;34m:\u001b[0m\u001b[0;34m\u001b[0m\u001b[0;34m\u001b[0m\u001b[0m\n\u001b[0;32m--> 995\u001b[0;31m             \u001b[0mret\u001b[0m \u001b[0;34m=\u001b[0m \u001b[0mfunc\u001b[0m\u001b[0;34m(\u001b[0m\u001b[0;34m*\u001b[0m\u001b[0margs\u001b[0m\u001b[0;34m,\u001b[0m \u001b[0;34m**\u001b[0m\u001b[0mkwargs\u001b[0m\u001b[0;34m)\u001b[0m\u001b[0;34m\u001b[0m\u001b[0;34m\u001b[0m\u001b[0m\n\u001b[0m\u001b[1;32m    996\u001b[0m             \u001b[0;32mreturn\u001b[0m \u001b[0m_convert\u001b[0m\u001b[0;34m(\u001b[0m\u001b[0mret\u001b[0m\u001b[0;34m,\u001b[0m \u001b[0mcls\u001b[0m\u001b[0;34m)\u001b[0m\u001b[0;34m\u001b[0m\u001b[0;34m\u001b[0m\u001b[0m\n\u001b[1;32m    997\u001b[0m \u001b[0;34m\u001b[0m\u001b[0m\n",
      "\u001b[0;31mRuntimeError\u001b[0m: Input and hidden tensors are not at the same device, found input tensor at cuda:6 and hidden tensor at cpu"
     ]
    }
   ],
   "source": [
    "pred_enc( ids[None] )"
   ]
  }
 ],
 "metadata": {
  "kernelspec": {
   "display_name": "Python 3",
   "language": "python",
   "name": "python3"
  },
  "language_info": {
   "codemirror_mode": {
    "name": "ipython",
    "version": 3
   },
   "file_extension": ".py",
   "mimetype": "text/x-python",
   "name": "python",
   "nbconvert_exporter": "python",
   "pygments_lexer": "ipython3",
   "version": "3.9.1"
  }
 },
 "nbformat": 4,
 "nbformat_minor": 4
}
